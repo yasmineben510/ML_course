{
  "nbformat": 4,
  "nbformat_minor": 0,
  "metadata": {
    "colab": {
      "provenance": [],
      "gpuType": "T4"
    },
    "kernelspec": {
      "name": "python3",
      "display_name": "Python 3"
    },
    "language_info": {
      "name": "python"
    },
    "accelerator": "GPU"
  },
  "cells": [
    {
      "cell_type": "markdown",
      "source": [
        "# Training GPT to do Multiplication\n",
        "The goal of this exercise is for you to get more familiar with transformers and and GPT. We will focus on a much simpler task than language modelling that can be trained in a few minutes. Specifically we will train a small GPT model from scratch to perform multiplications. We will use indidual characters as tokens. Doing multiplications directly for example in the form: \\\\\n",
        "\"12\\*34=\" -> \"408\" \\\\\n",
        "can be challenging. Even large language models are often not able to do this accurately for moderately large numbers, say 5 digits (although it is possible using [special tricks](https://arxiv.org/abs/2311.14737)).\n",
        "\n",
        "For large numbers predicting the first digit directly without any \"intermediate\" steps becomes hard. We will therefore consider training it do perform these intermediate steps explicitly, for example: \\\\\n",
        "\"12\\*34\" -> \"68\\[68\\]+340\\[408\\]=408\" \\\\\n",
        "where we compute the products of digits in the first number with the second number and then sum them up in the brackets, i.e. 68=2\\*34, 340=10\\*34, 0+68=68 and 68+340=408.\n",
        "\n",
        "This only requires a much simpler transformation at each step (corresponding to the generation of one output token) making it easier to learn and perform accurately. A similar idea is used in [\"chain-of-thought\" prompting](https://arxiv.org/abs/2201.11903) in large language models. They often perform much better if you ask them to \"think step by step\".\n",
        "\n",
        "One final thing we can do to make the task even easier is to write the numbers backwards during the intermediate steps. This is because comptuting the digits from left-to-right is significantly harder than computing them right-to-left for additions particulary but also multiplication."
      ],
      "metadata": {
        "id": "Bk6znTnboD5e"
      }
    },
    {
      "cell_type": "markdown",
      "source": [
        "# Part 1: Data Creation\n",
        "This part contains the functions involved in the dataset creation. The pipline is as follows:\n",
        "* We generate random number pairs and split them into a train and validation set (generate_dataset).\n",
        "* For each pair of numbers we create a string showing the multiplication of the two numbers, potentially involving intermediate steps. For example (12,34) could get mapped to \"12\\*34=408\" or \"12\\*34=68\\[68\\]+340\\[408\\]=408\".\n",
        "* The strings are padded with spaces to all have a given length. Note that this is typically not done in standard next token prediction on language, but simplifies the training proceedure in this case.\n",
        "* The strings are tokenized, mapping them to arrays of indices (integers). In this case we use one token for each character so the main difference is that all the token indices are in an interval going from zero to the vocabulary size.\n",
        "\n",
        "You need to fill in missing details in two fuctions:\n",
        "* generate_mul_sequence\n",
        "* tokenize\n"
      ],
      "metadata": {
        "id": "2fsQ-wq1xZFE"
      }
    },
    {
      "cell_type": "code",
      "source": [
        "import random\n",
        "import itertools\n",
        "import numpy as np\n",
        "\n",
        "def generate_mul_seq(a, b, max_digits=3, sum_cot=False, reverse_cot=False):\n",
        "    '''\n",
        "    This function takes in two integers and returns a string representing their\n",
        "    multiplication and result, optionally with intermediate steps.\n",
        "\n",
        "    >>> generate_mul_seq(867, 821, max_digits=3, sum_cot=False, reverse_cot=False)\n",
        "    '867*821=711807'\n",
        "    >>> generate_mul_seq(386, 273, max_digits=3, sum_cot=False, reverse_cot=True)\n",
        "    '386*273=873501=105378'\n",
        "    >>> generate_mul_seq(507, 779, max_digits=3, sum_cot=True, reverse_cot=False)\n",
        "    '507*779=5453[5453]+0[5453]+389500[394953]=394953'\n",
        "    >>> generate_mul_seq(807, 214, max_digits=3, sum_cot=True, reverse_cot=True)\n",
        "    '807*214=8941[8941]+0[8941]+002171[896271]=172698'\n",
        "    '''\n",
        "    prompt = f\"{a}*{b}=\"\n",
        "    prompt = \" \" * (2*max_digits + 2 - len(prompt)) + prompt\n",
        "    if not sum_cot:\n",
        "        if not reverse_cot:\n",
        "            # No COT e.g. \"12*34=408\"\n",
        "            return prompt + f\"{a*b}\"\n",
        "        else:\n",
        "            # Reversed intermediate result e.g. \"12*34=804=408\"\n",
        "            return prompt + f\"{str(a*b)[::-1]}=\" + f\"{a*b}\"\n",
        "\n",
        "    ### SOLUTION\n",
        "    a_digits = [int(x)*10**i for i,x in enumerate(str(a)[::-1])]\n",
        "    prods = prods = [da*b for da in a_digits]\n",
        "    csum = list(itertools.accumulate(prods))\n",
        "    if reverse_cot:\n",
        "        cot_str = \"+\".join([f\"{str(p)[::-1]}[{str(c)[::-1]}]\" for (p,c) in zip(prods,csum)])\n",
        "    else:\n",
        "        cot_str = \"+\".join([f\"{p}[{c}]\" for (p,c) in zip(prods,csum)])\n",
        "    return prompt + cot_str + f\"={a*b}\"\n",
        "    ### TEMPLATE\n",
        "    # # ***************************************************\n",
        "    # # INSERT YOUR CODE HERE\n",
        "    # # TODO: Return a string of the type \"12*34=68[68]+340[408]=408\" if\n",
        "    # # reverse_cot==False or 12*34=86[86]+043[804]=408 otherwise.\n",
        "    # # You should use the prompt created above (which has a fixed length\n",
        "    # # which is something we rely on later)\n",
        "    # # ***************************************************\n",
        "    # raise NotImplementedError\n",
        "    ### END SOLUTION\n",
        "\n",
        "\n",
        "token_table = {\n",
        "    **{f'{d}': d for d in range(10)},\n",
        "    '*': 10,\n",
        "    '=': 11,\n",
        "    '+': 12,\n",
        "    '[': 13,\n",
        "    ']': 14,\n",
        "    ' ': 15, # Hacky padding\n",
        "}\n",
        "\n",
        "def tokenize(dataset):\n",
        "    '''\n",
        "    This function takes in a list of strings and converts each one to a uint8\n",
        "    numpy array of tokens corresponding to the characters in the string (see\n",
        "    the token_table above for the mapping).\n",
        "\n",
        "    >>> print(tokenize([\"867*821=711807\"]))\n",
        "    [array([8, 6, 7, 10, 8, 2, 1, 11, 7, 1, 1, 8, 0, 7], dtype=uint8)]\n",
        "    >>> print(tokenize([\"0\", \"123456789*=+[]\"]))\n",
        "    [array([0], dtype=uint8), array([1, 2, 3, 4, 5, 6, 7, 8, 9, 10, 11, 12, 13, 14], dtype=uint8)]\n",
        "    '''\n",
        "    ### SOLUTION\n",
        "    out = [np.array([token_table[c] for c in seq], dtype=np.uint8) for seq in dataset]\n",
        "    ### TEMPLATE\n",
        "    # # ***************************************************\n",
        "    # # INSERT YOUR CODE HERE\n",
        "    # # TODO: Map each string in the the dataset [list] to a numpy array of\n",
        "    # # token indices (integers) according to the token_table defined above.\n",
        "    # # Return a list of numpy arrays corresponding to the input strings.\n",
        "    # # The datatype used for the numpy array should be np.uint8.\n",
        "    # # For example: \"2*3=6\" should be mapped to np.array([2, 10, 3, 11, 6], dtype=np.uint8)\n",
        "    # # ***************************************************\n",
        "    # raise NotImplementedError\n",
        "    ### END SOLUTION\n",
        "    return out\n",
        "\n",
        "\n",
        "# Other helper functions\n",
        "def generate_dataset(train_samples=100000, val_samples=1000, max_digits=3, sum_cot=False, reverse_cot=False):\n",
        "    assert train_samples + val_samples < 0.75 * 10**(max_digits*2), \"Too many requested data samples\"\n",
        "\n",
        "    def generate_pairs(n_samples, existing_pairs=None):\n",
        "        if existing_pairs is None:\n",
        "            existing_pairs = set()\n",
        "        max_num = 10**max_digits - 1\n",
        "        pairs = set()\n",
        "        while len(pairs) < n_samples:\n",
        "            num1 = random.randint(0, max_num)\n",
        "            num2 = random.randint(0, max_num)\n",
        "            pair = (num1, num2)\n",
        "            if pair not in existing_pairs:\n",
        "                pairs.add(pair)\n",
        "        return pairs\n",
        "\n",
        "    train_set = generate_pairs(train_samples)\n",
        "    val_set = generate_pairs(val_samples, train_set)\n",
        "\n",
        "    train_set = [generate_mul_seq(a, b, max_digits, sum_cot, reverse_cot) for (a, b) in train_set]\n",
        "    val_set = [generate_mul_seq(a, b, max_digits, sum_cot, reverse_cot) for (a, b) in val_set]\n",
        "\n",
        "    return list(train_set), list(val_set)\n",
        "\n",
        "\n",
        "def pad_datasets(train, val):\n",
        "    max_len = max(len(seq) for seq in train+val)\n",
        "    return [seq + \" \"*(max_len-len(seq)) for seq in train], [seq + \" \"*(max_len-len(seq)) for seq in val]\n",
        "\n",
        "inverse_table = {val:key for (key,val) in token_table.items()}\n",
        "\n",
        "def detokenize(data):\n",
        "    out = [\"\".join([inverse_table[idx] for idx in seq]) for seq in data]\n",
        "    return out\n",
        "\n",
        "\n",
        "# Test function we use to test your implementations\n",
        "import doctest\n",
        "import io\n",
        "import sys\n",
        "\n",
        "np.set_printoptions(\n",
        "    threshold=np.inf,\n",
        "    linewidth=np.inf,\n",
        "    formatter={'int': lambda x: f\"{x:d}\"}\n",
        ")\n",
        "\n",
        "def test(f):\n",
        "    # The `globs` defines the variables, functions and packages allowed in the docstring.\n",
        "    tests = doctest.DocTestFinder().find(f)\n",
        "    assert len(tests) <= 1\n",
        "    for test in tests:\n",
        "        # We redirect stdout to a string, so we can tell if the tests worked out or not\n",
        "        orig_stdout = sys.stdout\n",
        "        sys.stdout = io.StringIO()\n",
        "\n",
        "        try:\n",
        "            results: doctest.TestResults = doctest.DocTestRunner().run(test)\n",
        "            output = sys.stdout.getvalue()\n",
        "        finally:\n",
        "            sys.stdout = orig_stdout\n",
        "\n",
        "        if results.failed > 0:\n",
        "            print(f\"❌ The are some issues with your implementation of `{f.__name__}`:\")\n",
        "            print(output, end=\"\")\n",
        "            print(\n",
        "                \"**********************************************************************\"\n",
        "            )\n",
        "        elif results.attempted > 0:\n",
        "            print(f\"✅ Your `{f.__name__}` passed {results.attempted} tests.\")\n",
        "        else:\n",
        "            print(f\"Could not find any tests for {f.__name__}\")\n",
        "\n"
      ],
      "metadata": {
        "id": "olCP4HQLkG_Y"
      },
      "execution_count": 1,
      "outputs": []
    },
    {
      "cell_type": "code",
      "source": [
        "# Example data\n",
        "random.seed(0)\n",
        "print(\"No COT:\")\n",
        "for seq in generate_dataset(3, 0, sum_cot=False, reverse_cot=False)[0]:\n",
        "    print(repr(seq))\n",
        "\n",
        "print(\"\\nReverse intermediate COT:\")\n",
        "for seq in generate_dataset(3, 0, sum_cot=False, reverse_cot=True)[0]:\n",
        "    print(repr(seq))\n",
        "\n",
        "print(\"\\nSum COT:\")\n",
        "for seq in generate_dataset(3, 0, sum_cot=True, reverse_cot=False)[0]:\n",
        "    print(repr(seq))\n",
        "\n",
        "print(\"\\nReverse sum COT:\")\n",
        "for seq in generate_dataset(3, 0, sum_cot=True, reverse_cot=True)[0]:\n",
        "    print(repr(seq))\n",
        "\n",
        "print()\n",
        "test(generate_mul_seq)\n",
        "test(tokenize)"
      ],
      "metadata": {
        "colab": {
          "base_uri": "https://localhost:8080/"
        },
        "id": "7T6kUO7QmUzF",
        "outputId": "e88d8b5b-4b23-4509-8984-97ddd0a3510b"
      },
      "execution_count": 2,
      "outputs": [
        {
          "output_type": "stream",
          "name": "stderr",
          "text": [
            "\n",
            "PYDEV DEBUGGER WARNING:\n",
            "sys.settrace() should not be used when the debugger is being used.\n",
            "This may cause the debugger to stop working correctly.\n",
            "If this is needed, please check: \n",
            "http://pydev.blogspot.com/2007/06/why-cant-pydev-debugger-work-with.html\n",
            "to see how to restore the debug tracing back correctly.\n",
            "Call Location:\n",
            "  File \"/usr/lib/python3.10/doctest.py\", line 1501, in run\n",
            "    sys.settrace(save_trace)\n",
            "\n"
          ]
        },
        {
          "output_type": "stream",
          "name": "stdout",
          "text": [
            "No COT:\n",
            "'864*394=340416'\n",
            "'776*911=706936'\n",
            "' 430*41=17630'\n",
            "\n",
            "Reverse intermediate COT:\n",
            "'265*988=028162=261820'\n",
            "'414*940=061983=389160'\n",
            "'523*497=139952=259931'\n",
            "\n",
            "Sum COT:\n",
            "'310*991=0[0]+9910[9910]+297300[307210]=307210'\n",
            "'802*849=1698[1698]+0[1698]+679200[680898]=680898'\n",
            "'488*366=2928[2928]+29280[32208]+146400[178608]=178608'\n",
            "\n",
            "Reverse sum COT:\n",
            "'597*913=1936[1936]+07128[16588]+005654[160545]=545061'\n",
            "'516*142=258[258]+0241[2722]+00017[27237]=73272'\n",
            "'929*223=7002[7002]+0644[7646]+007002[761702]=207167'\n",
            "\n",
            "✅ Your `generate_mul_seq` passed 4 tests.\n",
            "✅ Your `tokenize` passed 2 tests.\n"
          ]
        }
      ]
    },
    {
      "cell_type": "markdown",
      "source": [
        "# Part 2: Defining the model\n",
        "Below you will find a slightly simplified model definition from [NanoGPT](https://github.com/karpathy/nanoGPT), a lean codebase for training real GPT models. We won't ask you to implement anything but encourage you to read through the code. We do not expect you to understand everything or to be able to implement code like this. However, see if you can answer the following questions:\n",
        "* Where is Layer Normalization applied relative to the attention and MLP subblocks?\n",
        "* What activation function do we use and where?\n",
        "* How do we ensure that the model doesn't cheat during training by looking at future tokens?\n",
        "* Where do we convert the initial input tokens (integers) to vector embeddings?\n",
        "* How do we ensure that attention is aware of the sequence order?"
      ],
      "metadata": {
        "id": "W79lvFXnxqVh"
      }
    },
    {
      "cell_type": "code",
      "source": [
        "# NanoGPT model.py\n",
        "# Slightly simplified to remove things unrelated to this exercise\n",
        "\n",
        "\"\"\"\n",
        "Full definition of a GPT Language Model, all of it in this single file.\n",
        "References:\n",
        "1) the official GPT-2 TensorFlow implementation released by OpenAI:\n",
        "https://github.com/openai/gpt-2/blob/master/src/model.py\n",
        "2) huggingface/transformers PyTorch implementation:\n",
        "https://github.com/huggingface/transformers/blob/main/src/transformers/models/gpt2/modeling_gpt2.py\n",
        "\"\"\"\n",
        "\n",
        "import math\n",
        "import inspect\n",
        "from dataclasses import dataclass\n",
        "\n",
        "import torch\n",
        "import torch.nn as nn\n",
        "from torch.nn import functional as F\n",
        "\n",
        "class LayerNorm(nn.Module):\n",
        "    \"\"\" LayerNorm but with an optional bias. PyTorch doesn't support simply bias=False \"\"\"\n",
        "\n",
        "    def __init__(self, ndim, bias):\n",
        "        super().__init__()\n",
        "        self.weight = nn.Parameter(torch.ones(ndim))\n",
        "        self.bias = nn.Parameter(torch.zeros(ndim)) if bias else None\n",
        "\n",
        "    def forward(self, input):\n",
        "        return F.layer_norm(input, self.weight.shape, self.weight, self.bias, 1e-5)\n",
        "\n",
        "class CausalSelfAttention(nn.Module):\n",
        "\n",
        "    def __init__(self, config):\n",
        "        super().__init__()\n",
        "        assert config.n_embd % config.n_head == 0\n",
        "        # key, query, value projections for all heads, but in a batch\n",
        "        self.c_attn = nn.Linear(config.n_embd, 3 * config.n_embd, bias=config.bias)\n",
        "        # output projection\n",
        "        self.c_proj = nn.Linear(config.n_embd, config.n_embd, bias=config.bias)\n",
        "        # regularization\n",
        "        self.attn_dropout = nn.Dropout(config.dropout)\n",
        "        self.resid_dropout = nn.Dropout(config.dropout)\n",
        "        self.n_head = config.n_head\n",
        "        self.n_embd = config.n_embd\n",
        "        self.dropout = config.dropout\n",
        "        # flash attention make GPU go brrrrr but support is only in PyTorch >= 2.0\n",
        "        self.flash = hasattr(torch.nn.functional, 'scaled_dot_product_attention')\n",
        "        if not self.flash:\n",
        "            print(\"WARNING: using slow attention. Flash Attention requires PyTorch >= 2.0\")\n",
        "            # causal mask to ensure that attention is only applied to the left in the input sequence\n",
        "            self.register_buffer(\"bias\", torch.tril(torch.ones(config.block_size, config.block_size))\n",
        "                                        .view(1, 1, config.block_size, config.block_size))\n",
        "\n",
        "    def forward(self, x):\n",
        "        B, T, C = x.size() # batch size, sequence length, embedding dimensionality (n_embd)\n",
        "\n",
        "        # calculate query, key, values for all heads in batch and move head forward to be the batch dim\n",
        "        q, k, v  = self.c_attn(x).split(self.n_embd, dim=2)\n",
        "        k = k.view(B, T, self.n_head, C // self.n_head).transpose(1, 2) # (B, nh, T, hs)\n",
        "        q = q.view(B, T, self.n_head, C // self.n_head).transpose(1, 2) # (B, nh, T, hs)\n",
        "        v = v.view(B, T, self.n_head, C // self.n_head).transpose(1, 2) # (B, nh, T, hs)\n",
        "\n",
        "        # causal self-attention; Self-attend: (B, nh, T, hs) x (B, nh, hs, T) -> (B, nh, T, T)\n",
        "        if self.flash:\n",
        "            # efficient attention using Flash Attention CUDA kernels\n",
        "            y = torch.nn.functional.scaled_dot_product_attention(q, k, v, attn_mask=None, dropout_p=self.dropout if self.training else 0, is_causal=True)\n",
        "        else:\n",
        "            # manual implementation of attention\n",
        "            att = (q @ k.transpose(-2, -1)) * (1.0 / math.sqrt(k.size(-1)))\n",
        "            att = att.masked_fill(self.bias[:,:,:T,:T] == 0, float('-inf'))\n",
        "            att = F.softmax(att, dim=-1)\n",
        "            att = self.attn_dropout(att)\n",
        "            y = att @ v # (B, nh, T, T) x (B, nh, T, hs) -> (B, nh, T, hs)\n",
        "        y = y.transpose(1, 2).contiguous().view(B, T, C) # re-assemble all head outputs side by side\n",
        "\n",
        "        # output projection\n",
        "        y = self.resid_dropout(self.c_proj(y))\n",
        "        return y\n",
        "\n",
        "class MLP(nn.Module):\n",
        "\n",
        "    def __init__(self, config):\n",
        "        super().__init__()\n",
        "        self.c_fc    = nn.Linear(config.n_embd, 4 * config.n_embd, bias=config.bias)\n",
        "        self.gelu    = nn.GELU()\n",
        "        self.c_proj  = nn.Linear(4 * config.n_embd, config.n_embd, bias=config.bias)\n",
        "        self.dropout = nn.Dropout(config.dropout)\n",
        "\n",
        "    def forward(self, x):\n",
        "        x = self.c_fc(x)\n",
        "        x = self.gelu(x)\n",
        "        x = self.c_proj(x)\n",
        "        x = self.dropout(x)\n",
        "        return x\n",
        "\n",
        "class Block(nn.Module):\n",
        "\n",
        "    def __init__(self, config):\n",
        "        super().__init__()\n",
        "        self.ln_1 = LayerNorm(config.n_embd, bias=config.bias)\n",
        "        self.attn = CausalSelfAttention(config)\n",
        "        self.ln_2 = LayerNorm(config.n_embd, bias=config.bias)\n",
        "        self.mlp = MLP(config)\n",
        "\n",
        "    def forward(self, x):\n",
        "        x = x + self.attn(self.ln_1(x))\n",
        "        x = x + self.mlp(self.ln_2(x))\n",
        "        return x\n",
        "\n",
        "@dataclass\n",
        "class GPTConfig:\n",
        "    block_size: int = 1024\n",
        "    vocab_size: int = 50304 # GPT-2 vocab_size of 50257, padded up to nearest multiple of 64 for efficiency\n",
        "    n_layer: int = 12\n",
        "    n_head: int = 12\n",
        "    n_embd: int = 768\n",
        "    dropout: float = 0.0\n",
        "    bias: bool = True # True: bias in Linears and LayerNorms, like GPT-2. False: a bit better and faster\n",
        "\n",
        "class GPT(nn.Module):\n",
        "\n",
        "    def __init__(self, config):\n",
        "        super().__init__()\n",
        "        assert config.vocab_size is not None\n",
        "        assert config.block_size is not None\n",
        "        self.config = config\n",
        "\n",
        "        self.transformer = nn.ModuleDict(dict(\n",
        "            wte = nn.Embedding(config.vocab_size, config.n_embd),\n",
        "            wpe = nn.Embedding(config.block_size, config.n_embd),\n",
        "            drop = nn.Dropout(config.dropout),\n",
        "            h = nn.ModuleList([Block(config) for _ in range(config.n_layer)]),\n",
        "            ln_f = LayerNorm(config.n_embd, bias=config.bias),\n",
        "        ))\n",
        "        self.lm_head = nn.Linear(config.n_embd, config.vocab_size, bias=False)\n",
        "        self.transformer.wte.weight = self.lm_head.weight # https://paperswithcode.com/method/weight-tying\n",
        "\n",
        "        # init all weights\n",
        "        self.apply(self._init_weights)\n",
        "        # apply special scaled init to the residual projections, per GPT-2 paper\n",
        "        for pn, p in self.named_parameters():\n",
        "            if pn.endswith('c_proj.weight'):\n",
        "                torch.nn.init.normal_(p, mean=0.0, std=0.02/math.sqrt(2 * config.n_layer))\n",
        "\n",
        "        # report number of parameters\n",
        "        print(\"number of parameters: %.2fM\" % (self.get_num_params()/1e6,))\n",
        "\n",
        "    def get_num_params(self, non_embedding=True):\n",
        "        \"\"\"\n",
        "        Return the number of parameters in the model.\n",
        "        For non-embedding count (default), the position embeddings get subtracted.\n",
        "        The token embeddings would too, except due to the parameter sharing these\n",
        "        params are actually used as weights in the final layer, so we include them.\n",
        "        \"\"\"\n",
        "        n_params = sum(p.numel() for p in self.parameters())\n",
        "        if non_embedding:\n",
        "            n_params -= self.transformer.wpe.weight.numel()\n",
        "        return n_params\n",
        "\n",
        "    def _init_weights(self, module):\n",
        "        if isinstance(module, nn.Linear):\n",
        "            torch.nn.init.normal_(module.weight, mean=0.0, std=0.02)\n",
        "            if module.bias is not None:\n",
        "                torch.nn.init.zeros_(module.bias)\n",
        "        elif isinstance(module, nn.Embedding):\n",
        "            torch.nn.init.normal_(module.weight, mean=0.0, std=0.02)\n",
        "\n",
        "    def forward(self, idx, targets=None):\n",
        "        device = idx.device\n",
        "        b, t = idx.size()\n",
        "        assert t <= self.config.block_size, f\"Cannot forward sequence of length {t}, block size is only {self.config.block_size}\"\n",
        "        pos = torch.arange(0, t, dtype=torch.long, device=device) # shape (t)\n",
        "\n",
        "        # forward the GPT model itself\n",
        "        tok_emb = self.transformer.wte(idx) # token embeddings of shape (b, t, n_embd)\n",
        "        pos_emb = self.transformer.wpe(pos) # position embeddings of shape (t, n_embd)\n",
        "        x = self.transformer.drop(tok_emb + pos_emb)\n",
        "        for block in self.transformer.h:\n",
        "            x = block(x)\n",
        "        x = self.transformer.ln_f(x)\n",
        "\n",
        "        if targets is not None:\n",
        "            # if we are given some desired targets also calculate the loss\n",
        "            logits = self.lm_head(x)\n",
        "            loss = F.cross_entropy(logits.view(-1, logits.size(-1)), targets.view(-1), ignore_index=-1)\n",
        "\n",
        "            mask = targets != -1\n",
        "            correct = (torch.argmax(logits, dim=-1)==targets) & mask\n",
        "            acc = torch.sum(1.0*(correct)) / torch.sum(mask)\n",
        "        else:\n",
        "            # inference-time mini-optimization: only forward the lm_head on the very last position\n",
        "            logits = self.lm_head(x[:, [-1], :]) # note: using list [-1] to preserve the time dim\n",
        "            loss = None\n",
        "            acc = None\n",
        "\n",
        "        return logits, loss, acc\n",
        "\n",
        "    def configure_optimizers(self, weight_decay, learning_rate, betas, device_type):\n",
        "        # start with all of the candidate parameters\n",
        "        param_dict = {pn: p for pn, p in self.named_parameters()}\n",
        "        # filter out those that do not require grad\n",
        "        param_dict = {pn: p for pn, p in param_dict.items() if p.requires_grad}\n",
        "        # create optim groups. Any parameters that is 2D will be weight decayed, otherwise no.\n",
        "        # i.e. all weight tensors in matmuls + embeddings decay, all biases and layernorms don't.\n",
        "        decay_params = [p for n, p in param_dict.items() if p.dim() >= 2]\n",
        "        nodecay_params = [p for n, p in param_dict.items() if p.dim() < 2]\n",
        "        optim_groups = [\n",
        "            {'params': decay_params, 'weight_decay': weight_decay},\n",
        "            {'params': nodecay_params, 'weight_decay': 0.0}\n",
        "        ]\n",
        "        num_decay_params = sum(p.numel() for p in decay_params)\n",
        "        num_nodecay_params = sum(p.numel() for p in nodecay_params)\n",
        "        print(f\"num decayed parameter tensors: {len(decay_params)}, with {num_decay_params:,} parameters\")\n",
        "        print(f\"num non-decayed parameter tensors: {len(nodecay_params)}, with {num_nodecay_params:,} parameters\")\n",
        "        # Create AdamW optimizer and use the fused version if it is available\n",
        "        fused_available = 'fused' in inspect.signature(torch.optim.AdamW).parameters\n",
        "        use_fused = fused_available and device_type == 'cuda'\n",
        "        extra_args = dict(fused=True) if use_fused else dict()\n",
        "        optimizer = torch.optim.AdamW(optim_groups, lr=learning_rate, betas=betas, **extra_args)\n",
        "        print(f\"using fused AdamW: {use_fused}\")\n",
        "\n",
        "        return optimizer\n",
        "\n",
        "    @torch.no_grad()\n",
        "    def generate(self, idx, max_new_tokens, temperature=1.0, top_k=None):\n",
        "        \"\"\"\n",
        "        Take a conditioning sequence of indices idx (LongTensor of shape (b,t)) and complete\n",
        "        the sequence max_new_tokens times, feeding the predictions back into the model each time.\n",
        "        Most likely you'll want to make sure to be in model.eval() mode of operation for this.\n",
        "        \"\"\"\n",
        "        for _ in range(max_new_tokens):\n",
        "            # if the sequence context is growing too long we must crop it at block_size\n",
        "            idx_cond = idx if idx.size(1) <= self.config.block_size else idx[:, -self.config.block_size:]\n",
        "            # forward the model to get the logits for the index in the sequence\n",
        "            logits, _, _ = self(idx_cond)\n",
        "            # pluck the logits at the final step and scale by desired temperature\n",
        "            logits = logits[:, -1, :] / temperature\n",
        "            # optionally crop the logits to only the top k options\n",
        "            if top_k is not None:\n",
        "                v, _ = torch.topk(logits, min(top_k, logits.size(-1)))\n",
        "                logits[logits < v[:, [-1]]] = -float('Inf')\n",
        "            # apply softmax to convert logits to (normalized) probabilities\n",
        "            probs = F.softmax(logits, dim=-1)\n",
        "            # sample from the distribution\n",
        "            idx_next = torch.multinomial(probs, num_samples=1)\n",
        "            # append sampled index to the running sequence and continue\n",
        "            idx = torch.cat((idx, idx_next), dim=1)\n",
        "\n",
        "        return idx"
      ],
      "metadata": {
        "id": "WvcTNfJZb1ks"
      },
      "execution_count": 3,
      "outputs": []
    },
    {
      "cell_type": "markdown",
      "source": [
        "# Part 3: Training Script\n",
        "Below you will find a simplified version of the training code used in [NanoGPT](https://github.com/karpathy/nanoGPT). We will also not ask you to implement anything here but encourage you to read through the code. This code uses some concepts you are probably not familiar with such as low precision training in float16 (for faster GPU execution). Do not worry about understanding everything but see if you can answer the following question:\n",
        "* Since the numbers in the prompt are random they can not be accurately predicted. Here we opt to ignore the prompt in our loss and accuracy computation. How do we do this?\n",
        "\n"
      ],
      "metadata": {
        "id": "c-yueXBcxtRR"
      }
    },
    {
      "cell_type": "code",
      "source": [
        "# NanoGPT train.py (modified)\n",
        "# Slightly simplified to remove features not needed here\n",
        "\n",
        "import time\n",
        "import math\n",
        "from contextlib import nullcontext\n",
        "\n",
        "import numpy as np\n",
        "import torch\n",
        "\n",
        "# -----------------------------------------------------------------------------\n",
        "# Some configuration hyperparameters that we keep constant in this notebook\n",
        "\n",
        "# I/O\n",
        "eval_interval = 1000\n",
        "log_interval = 500\n",
        "eval_iters = 8\n",
        "\n",
        "# data\n",
        "batch_size = 128\n",
        "\n",
        "# model\n",
        "n_layer = 6\n",
        "n_head = 4\n",
        "n_embd = 128\n",
        "dropout = 0.0 # for pretraining 0 is good, for finetuning try 0.1+\n",
        "bias = False # do we use bias inside LayerNorm and Linear layers?\n",
        "\n",
        "# adamw optimizer\n",
        "learning_rate = 1e-3 # max learning rate\n",
        "max_iters = 5000 # total number of training iterations\n",
        "weight_decay = 1e-1\n",
        "beta1 = 0.9\n",
        "beta2 = 0.95\n",
        "grad_clip = 1.0 # clip gradients at this value, or disable if == 0.0\n",
        "\n",
        "# learning rate decay settings\n",
        "decay_lr = True # whether to decay the learning rate\n",
        "warmup_iters = 1000 # how many steps to warm up for\n",
        "lr_decay_iters = max_iters # should be ~= max_iters per Chinchilla\n",
        "min_lr = 0 # minimum learning rate, should be ~= learning_rate/10 per Chinchilla\n",
        "\n",
        "# system\n",
        "device = 'cuda' # examples: 'cpu', 'cuda', 'cuda:0', 'cuda:1' etc., or try 'mps' on macbooks\n",
        "dtype = 'bfloat16' if torch.cuda.is_available() and torch.cuda.is_bf16_supported() else 'float16' # 'float32', 'bfloat16', or 'float16', the latter will auto implement a GradScaler\n",
        "compile = False # use PyTorch 2.0 to compile the model to be faster\n",
        "# -----------------------------------------------------------------------------\n",
        "\n",
        "\n",
        "# learning rate decay scheduler (cosine with warmup)\n",
        "def get_lr(it):\n",
        "    # 1) linear warmup for warmup_iters steps\n",
        "    if it < warmup_iters:\n",
        "        return learning_rate * it / warmup_iters\n",
        "    # 2) if it > lr_decay_iters, return min learning rate\n",
        "    if it > lr_decay_iters:\n",
        "        return min_lr\n",
        "    # 3) in between, use cosine decay down to min learning rate\n",
        "    decay_ratio = (it - warmup_iters) / (lr_decay_iters - warmup_iters)\n",
        "    assert 0 <= decay_ratio <= 1\n",
        "    coeff = 0.5 * (1.0 + math.cos(math.pi * decay_ratio)) # coeff ranges 0..1\n",
        "    return min_lr + coeff * (learning_rate - min_lr)\n",
        "\n",
        "\n",
        "def train_model(train_data, val_data, prompt_length, block_size):\n",
        "    # Usually we would take a lot more of the hyperparameters as some sort of\n",
        "    # arguments but here we only change the train_data and val_data\n",
        "\n",
        "    torch.manual_seed(1337)\n",
        "    torch.backends.cuda.matmul.allow_tf32 = True # allow tf32 on matmul\n",
        "    torch.backends.cudnn.allow_tf32 = True # allow tf32 on cudnn\n",
        "    device_type = 'cuda' if 'cuda' in device else 'cpu' # for later use in torch.autocast\n",
        "    # note: float16 data type will automatically use a GradScaler\n",
        "    ptdtype = {'float32': torch.float32, 'bfloat16': torch.bfloat16, 'float16': torch.float16}[dtype]\n",
        "    ctx = nullcontext() if device_type == 'cpu' else torch.amp.autocast(device_type=device_type, dtype=ptdtype)\n",
        "\n",
        "    # poor man's data loader\n",
        "    def get_batch(split, mask_first=prompt_length-1):\n",
        "        data = train_data if split == 'train' else val_data\n",
        "        ix = torch.randint(len(data), (batch_size,))\n",
        "        x = torch.stack([torch.from_numpy((data[i][:-1]).astype(np.int64)) for i in ix])\n",
        "        y = torch.stack([torch.from_numpy((data[i][1:]).astype(np.int64)) for i in ix])\n",
        "        if mask_first:\n",
        "            y[:,:mask_first] = -1\n",
        "        if device_type == 'cuda':\n",
        "            # pin arrays x,y, which allows us to move them to GPU asynchronously (non_blocking=True)\n",
        "            x, y = x.pin_memory().to(device, non_blocking=True), y.pin_memory().to(device, non_blocking=True)\n",
        "        else:\n",
        "            x, y = x.to(device), y.to(device)\n",
        "        return x, y\n",
        "\n",
        "    print(f\"{block_size=}\")\n",
        "    tokens_per_iter = batch_size * block_size\n",
        "    print(f\"tokens per iteration will be: {tokens_per_iter:,}\")\n",
        "\n",
        "    # model init\n",
        "    model_args = dict(n_layer=n_layer, n_head=n_head, n_embd=n_embd, block_size=block_size,\n",
        "                    bias=bias, vocab_size=None, dropout=dropout) # start with model_args from command line\n",
        "    print(\"Initializing a new model from scratch\")\n",
        "    model_args['vocab_size'] = 16\n",
        "    gptconf = GPTConfig(**model_args)\n",
        "    model = GPT(gptconf)\n",
        "    model.to(device)\n",
        "\n",
        "    # initialize a GradScaler. If enabled=False scaler is a no-op\n",
        "    scaler = torch.cuda.amp.GradScaler(enabled=(dtype == 'float16'))\n",
        "\n",
        "    # optimizer\n",
        "    optimizer = model.configure_optimizers(weight_decay, learning_rate, (beta1, beta2), device_type)\n",
        "\n",
        "    # compile the model\n",
        "    if compile:\n",
        "        print(\"compiling the model... (takes a ~minute)\")\n",
        "        unoptimized_model = model\n",
        "        model = torch.compile(model) # requires PyTorch 2.0\n",
        "\n",
        "    # helps estimate an arbitrarily accurate loss over either split using many batches\n",
        "    @torch.no_grad()\n",
        "    def estimate_loss():\n",
        "        out_losses = {}\n",
        "        out_accs = {}\n",
        "        model.eval()\n",
        "        for split in ['train', 'val']:\n",
        "            losses = torch.zeros(eval_iters)\n",
        "            accs = torch.zeros(eval_iters)\n",
        "            for k in range(eval_iters):\n",
        "                X, Y = get_batch(split)\n",
        "                with ctx:\n",
        "                    logits, loss, acc = model(X, Y)\n",
        "                losses[k] = loss.item()\n",
        "                accs[k] = acc.item()\n",
        "            out_losses[split] = losses.mean()\n",
        "            out_accs[split] = accs.mean()\n",
        "        model.train()\n",
        "        return out_losses, out_accs\n",
        "\n",
        "    # training loop\n",
        "    iter_num = 0\n",
        "    best_val_loss = 1e9\n",
        "    X, Y = get_batch('train') # fetch the very first batch\n",
        "    t0 = time.time()\n",
        "\n",
        "    while True:\n",
        "        # determine and set the learning rate for this iteration\n",
        "        lr = get_lr(iter_num) if decay_lr else learning_rate\n",
        "        for param_group in optimizer.param_groups:\n",
        "            param_group['lr'] = lr\n",
        "\n",
        "        # evaluate the loss on train/val sets and write checkpoints\n",
        "        if iter_num % eval_interval == 0:\n",
        "            losses, accs = estimate_loss()\n",
        "            print(f\"step {iter_num}: train loss {losses['train']:.4f}, val loss {losses['val']:.4f}, train acc {accs['train']:0.4f}, val acc {accs['val']:0.4f}\")\n",
        "\n",
        "        # forward backward update, with optional gradient accumulation to simulate larger batch size\n",
        "        # and using the GradScaler if data type is float16\n",
        "        with ctx:\n",
        "            logits, loss, accuracy = model(X, Y)\n",
        "        # immediately async prefetch next batch while model is doing the forward pass on the GPU\n",
        "        X, Y = get_batch('train')\n",
        "        # backward pass, with gradient scaling if training in fp16\n",
        "        scaler.scale(loss).backward()\n",
        "        # clip the gradient\n",
        "        if grad_clip != 0.0:\n",
        "            scaler.unscale_(optimizer)\n",
        "            torch.nn.utils.clip_grad_norm_(model.parameters(), grad_clip)\n",
        "        # step the optimizer and scaler if training in fp16\n",
        "        scaler.step(optimizer)\n",
        "        scaler.update()\n",
        "        # flush the gradients as soon as we can, no need for this memory anymore\n",
        "        optimizer.zero_grad(set_to_none=True)\n",
        "\n",
        "        # timing and logging\n",
        "        t1 = time.time()\n",
        "        dt = t1 - t0\n",
        "        t0 = t1\n",
        "        if iter_num % log_interval == 0:\n",
        "            # get loss as float. note: this is a CPU-GPU sync point\n",
        "            lossf = loss.item()\n",
        "            print(f\"iter {iter_num}: loss {lossf:.4f}, time {dt*1000:.2f}ms, {accuracy=:0.3f}\")\n",
        "        iter_num += 1\n",
        "\n",
        "        # termination conditions\n",
        "        if iter_num > max_iters:\n",
        "            break\n",
        "\n",
        "    return model\n"
      ],
      "metadata": {
        "id": "DdCqb_lvf2K1"
      },
      "execution_count": 4,
      "outputs": []
    },
    {
      "cell_type": "markdown",
      "source": [
        "# Part 4: Evaluating models\n",
        "In this part you will train models on different types of data and evaluate how well they perform during inference.\n",
        "\n",
        "Fill out the missing details to train and compare the different models below. How do the different types of data change the difficulty of the task? Note that here we don't significantly tune the training much, it is probably possible to receive somewhat better performance on the direct task with longer training and better tuning (but we want to keep things short / managable here)."
      ],
      "metadata": {
        "id": "5o6OpMkFx2Jp"
      }
    },
    {
      "cell_type": "code",
      "source": [
        "# Helper functions for evaluation (no action needed)\n",
        "\n",
        "from IPython.display import HTML\n",
        "import difflib\n",
        "\n",
        "def compare_strings_html(pred_str, true_str):\n",
        "    # Initialize an empty string for the HTML output\n",
        "    diff_str = ''\n",
        "\n",
        "    # Iterate over the characters based on the length of the shorter string\n",
        "    for i in range(min(len(pred_str), len(true_str))):\n",
        "        if pred_str[i] != true_str[i]:\n",
        "            # If characters are different, color them red\n",
        "            diff_str += '<span style=\"color: #FF0000; text-decoration: line-through;\">{}</span>'.format(pred_str[i])\n",
        "        else:\n",
        "            # If characters are the same, keep them as they are\n",
        "            diff_str += pred_str[i]\n",
        "\n",
        "    # Add the remaining characters of pred_str in red if they are extra\n",
        "    if len(pred_str) > len(true_str):\n",
        "        for extra_char in pred_str[len(true_str):]:\n",
        "            diff_str += '<span style=\"color: #FF0000;\">{}</span>'.format(extra_char)\n",
        "\n",
        "    return diff_str\n",
        "\n",
        "\n",
        "def calculate_accuracies(Y_true, Y_pred, prompt_length):\n",
        "    total_strings = len(Y_true)\n",
        "    exact_match_count = 0\n",
        "    total_chars = 0\n",
        "    char_match_count = 0\n",
        "\n",
        "    for true_str, pred_str in zip(Y_true, Y_pred):\n",
        "        # Count exact matches\n",
        "        if true_str == pred_str:\n",
        "            exact_match_count += 1\n",
        "\n",
        "        # Count character matches, ignoring prompt_length\n",
        "        for t_char, p_char in zip(true_str[prompt_length:], pred_str[prompt_length:]):\n",
        "            if t_char != ' ':\n",
        "                total_chars += 1\n",
        "                if t_char == p_char:\n",
        "                    char_match_count += 1\n",
        "\n",
        "    # Calculate accuracies\n",
        "    string_accuracy = exact_match_count / total_strings\n",
        "    char_accuracy = char_match_count / total_chars\n",
        "\n",
        "    return string_accuracy, char_accuracy\n",
        "\n",
        "\n",
        "def evaluate_model_generation(model, val_data, num_sequences=1024, batch_size=128):\n",
        "    # Generate sequences based on validation prompts and compare / compute accuracy\n",
        "    num_sequences = min(num_sequences, len(val_data))\n",
        "    model.eval()\n",
        "\n",
        "    true_seq = []\n",
        "    pred_seq = []\n",
        "\n",
        "    for batch_idx in range((num_sequences + batch_size - 1) // batch_size):\n",
        "        start_idx = batch_idx*batch_size\n",
        "        end_idx = min((batch_idx+1)*batch_size,num_sequences)\n",
        "        sequences = [(val_data[i]) for i in range(start_idx, end_idx)]\n",
        "\n",
        "        X_val = torch.stack([torch.from_numpy(seq.astype(np.int64)) for seq in sequences]).to(device)\n",
        "        X_prompt = X_val[:,:prompt_length]\n",
        "        Y_pred = model.generate(X_prompt, block_size-prompt_length+1, top_k=1)\n",
        "\n",
        "        # Convert to strings\n",
        "        true_seq.extend(detokenize(X_val.cpu().numpy()))\n",
        "        pred_seq.extend(detokenize(Y_pred.cpu().numpy()))\n",
        "\n",
        "    # Compute accuracy\n",
        "    string_accuracy, char_accuracy = calculate_accuracies(true_seq, pred_seq, prompt_length=prompt_length)\n",
        "    print(\"Auto-regressive Generation\")\n",
        "    print(f\"Sequence-Level Accuracy: {string_accuracy:0.4f}\")\n",
        "    print(f\"Character-Level Accuracy: {char_accuracy:0.4f}\")\n",
        "\n",
        "    print(\"\\nExamples of correct/incorrect sequences:\")\n",
        "    correct = 0\n",
        "    incorrect = 0\n",
        "    for tseq, pseq in zip(true_seq, pred_seq):\n",
        "        if tseq == pseq and correct < 5:\n",
        "            correct += 1\n",
        "            print(f\"Correct:   {tseq}\")\n",
        "        if tseq != pseq and incorrect < 5:\n",
        "            incorrect += 1\n",
        "            print(f\"Incorrect: {tseq}\")\n",
        "            display(HTML(f'<div style=\"margin-left: 20px;\"><pre>Target: {tseq}</pre></div>'))\n",
        "            display(HTML(f'<div style=\"margin-left: 20px;\"><pre>Output: {compare_strings_html(pseq, tseq)}</pre></div>'))\n",
        "\n"
      ],
      "metadata": {
        "id": "fgsvSd1sq7Ww"
      },
      "execution_count": 5,
      "outputs": []
    },
    {
      "cell_type": "code",
      "source": [
        "for max_digits in [3, 6]:\n",
        "    for sum_cot in [False, True]:\n",
        "        for reverse_cot in [False, True]:\n",
        "            print(\"=\"*80)\n",
        "            print(f\"{max_digits=}, {sum_cot=}, {reverse_cot=}\")\n",
        "            print(\"=\"*80)\n",
        "\n",
        "            random.seed(42)\n",
        "            prompt_length = 2*max_digits + 2\n",
        "\n",
        "            ### SOLUTION\n",
        "            train_set, val_set = generate_dataset(sum_cot=sum_cot, reverse_cot=reverse_cot, max_digits=max_digits)\n",
        "            train_set, val_set = pad_datasets(train_set, val_set)\n",
        "            train_data, val_data = tokenize(train_set), tokenize(val_set)\n",
        "            ### TEMPLATE\n",
        "            # # ***************************************************\n",
        "            # # INSERT YOUR CODE HERE\n",
        "            # # TODO: Generate the training and validation datasets\n",
        "            # # TODO: Pad the sequences in the resulting datasets\n",
        "            # # TODO: Tokanize the results to obtain the final train/val data\n",
        "            # # ***************************************************\n",
        "            # raise NotImplementedError\n",
        "            ### END SOLUTION\n",
        "\n",
        "            print(\"===== Training =====\")\n",
        "            block_size = len(train_data[0]) - 1\n",
        "            ### SOLUTION\n",
        "            model = train_model(train_data, val_data, prompt_length, block_size)\n",
        "            ### TEMPLATE\n",
        "            # # ***************************************************\n",
        "            # # INSERT YOUR CODE HERE\n",
        "            # # TODO: Train a model, saving the resulting model\n",
        "            # # ***************************************************\n",
        "            # raise NotImplementedError\n",
        "            ### END SOLUTION\n",
        "\n",
        "            print(\"\\n\\n===== Evaluation =====\")\n",
        "            ### SOLUTION\n",
        "            evaluate_model_generation(model, val_data)\n",
        "            ### TEMPLATE\n",
        "            # # ***************************************************\n",
        "            # # INSERT YOUR CODE HERE\n",
        "            # # TODO: Evaluate the model generation\n",
        "            # # ***************************************************\n",
        "            # raise NotImplementedError\n",
        "            ### END SOLUTION\n",
        "\n",
        "            print(\"=\"*80)\n",
        "            print(\"\\n\\n\")\n",
        "\n"
      ],
      "metadata": {
        "colab": {
          "base_uri": "https://localhost:8080/",
          "height": 1000
        },
        "id": "XJ2Cng10vc8W",
        "outputId": "0c8fd33d-debd-4720-c4ae-cc1e7c3540ca"
      },
      "execution_count": 6,
      "outputs": [
        {
          "metadata": {
            "tags": null
          },
          "name": "stdout",
          "output_type": "stream",
          "text": [
            "================================================================================\n",
            "max_digits=3, sum_cot=False, reverse_cot=False\n",
            "================================================================================\n",
            "===== Training =====\n",
            "block_size=13\n",
            "tokens per iteration will be: 1,664\n",
            "Initializing a new model from scratch\n",
            "number of parameters: 1.18M\n",
            "num decayed parameter tensors: 26, with 1,183,360 parameters\n",
            "num non-decayed parameter tensors: 13, with 1,664 parameters\n",
            "using fused AdamW: True\n",
            "step 0: train loss 2.7966, val loss 2.7926, train acc 0.0947, val acc 0.0959\n",
            "iter 0: loss 2.7987, time 958.37ms, accuracy=0.091\n",
            "iter 500: loss 1.6585, time 16.89ms, accuracy=0.353\n",
            "step 1000: train loss 1.5393, val loss 1.5343, train acc 0.3828, val acc 0.3828\n",
            "iter 1000: loss 1.5285, time 94.39ms, accuracy=0.383\n",
            "iter 1500: loss 1.3015, time 10.51ms, accuracy=0.488\n",
            "step 2000: train loss 1.1989, val loss 1.2069, train acc 0.5314, val acc 0.5265\n",
            "iter 2000: loss 1.1833, time 92.06ms, accuracy=0.535\n",
            "iter 2500: loss 1.1199, time 10.58ms, accuracy=0.547\n",
            "step 3000: train loss 1.1198, val loss 1.1351, train acc 0.5508, val acc 0.5513\n",
            "iter 3000: loss 1.0700, time 146.23ms, accuracy=0.562\n",
            "iter 3500: loss 1.0453, time 10.70ms, accuracy=0.585\n",
            "step 4000: train loss 0.9997, val loss 0.9976, train acc 0.6060, val acc 0.6068\n",
            "iter 4000: loss 0.9953, time 139.32ms, accuracy=0.616\n",
            "iter 4500: loss 0.9719, time 11.38ms, accuracy=0.634\n",
            "step 5000: train loss 0.9504, val loss 0.9772, train acc 0.6322, val acc 0.6227\n",
            "iter 5000: loss 0.9461, time 138.32ms, accuracy=0.639\n",
            "\n",
            "\n",
            "===== Evaluation =====\n",
            "Auto-regressive Generation\n",
            "Sequence-Level Accuracy: 0.0250\n",
            "Character-Level Accuracy: 0.5955\n",
            "\n",
            "Examples of correct/incorrect sequences:\n",
            "Incorrect: 733*548=401684\n"
          ]
        },
        {
          "data": {
            "text/html": [
              "<div style=\"margin-left: 20px;\"><pre>Target: 733*548=401684</pre></div>"
            ],
            "text/plain": [
              "<IPython.core.display.HTML object>"
            ]
          },
          "metadata": {},
          "output_type": "display_data"
        },
        {
          "data": {
            "text/html": [
              "<div style=\"margin-left: 20px;\"><pre>Output: 733*548=401<span style=\"color: #FF0000; text-decoration: line-through;\">1</span><span style=\"color: #FF0000; text-decoration: line-through;\">1</span>4</pre></div>"
            ],
            "text/plain": [
              "<IPython.core.display.HTML object>"
            ]
          },
          "metadata": {},
          "output_type": "display_data"
        },
        {
          "metadata": {
            "tags": null
          },
          "name": "stdout",
          "output_type": "stream",
          "text": [
            "Incorrect: 557*969=539733\n"
          ]
        },
        {
          "data": {
            "text/html": [
              "<div style=\"margin-left: 20px;\"><pre>Target: 557*969=539733</pre></div>"
            ],
            "text/plain": [
              "<IPython.core.display.HTML object>"
            ]
          },
          "metadata": {},
          "output_type": "display_data"
        },
        {
          "data": {
            "text/html": [
              "<div style=\"margin-left: 20px;\"><pre>Output: 557*969=539<span style=\"color: #FF0000; text-decoration: line-through;\">9</span><span style=\"color: #FF0000; text-decoration: line-through;\">9</span>3</pre></div>"
            ],
            "text/plain": [
              "<IPython.core.display.HTML object>"
            ]
          },
          "metadata": {},
          "output_type": "display_data"
        },
        {
          "metadata": {
            "tags": null
          },
          "name": "stdout",
          "output_type": "stream",
          "text": [
            "Incorrect: 732*592=433344\n"
          ]
        },
        {
          "data": {
            "text/html": [
              "<div style=\"margin-left: 20px;\"><pre>Target: 732*592=433344</pre></div>"
            ],
            "text/plain": [
              "<IPython.core.display.HTML object>"
            ]
          },
          "metadata": {},
          "output_type": "display_data"
        },
        {
          "data": {
            "text/html": [
              "<div style=\"margin-left: 20px;\"><pre>Output: 732*592=433<span style=\"color: #FF0000; text-decoration: line-through;\">8</span><span style=\"color: #FF0000; text-decoration: line-through;\">6</span>4</pre></div>"
            ],
            "text/plain": [
              "<IPython.core.display.HTML object>"
            ]
          },
          "metadata": {},
          "output_type": "display_data"
        },
        {
          "metadata": {
            "tags": null
          },
          "name": "stdout",
          "output_type": "stream",
          "text": [
            "Incorrect: 982*960=942720\n"
          ]
        },
        {
          "data": {
            "text/html": [
              "<div style=\"margin-left: 20px;\"><pre>Target: 982*960=942720</pre></div>"
            ],
            "text/plain": [
              "<IPython.core.display.HTML object>"
            ]
          },
          "metadata": {},
          "output_type": "display_data"
        },
        {
          "data": {
            "text/html": [
              "<div style=\"margin-left: 20px;\"><pre>Output: 982*960=94<span style=\"color: #FF0000; text-decoration: line-through;\">3</span><span style=\"color: #FF0000; text-decoration: line-through;\">1</span>20</pre></div>"
            ],
            "text/plain": [
              "<IPython.core.display.HTML object>"
            ]
          },
          "metadata": {},
          "output_type": "display_data"
        },
        {
          "metadata": {
            "tags": null
          },
          "name": "stdout",
          "output_type": "stream",
          "text": [
            "Incorrect: 784*877=687568\n"
          ]
        },
        {
          "data": {
            "text/html": [
              "<div style=\"margin-left: 20px;\"><pre>Target: 784*877=687568</pre></div>"
            ],
            "text/plain": [
              "<IPython.core.display.HTML object>"
            ]
          },
          "metadata": {},
          "output_type": "display_data"
        },
        {
          "data": {
            "text/html": [
              "<div style=\"margin-left: 20px;\"><pre>Output: 784*877=68<span style=\"color: #FF0000; text-decoration: line-through;\">8</span><span style=\"color: #FF0000; text-decoration: line-through;\">8</span><span style=\"color: #FF0000; text-decoration: line-through;\">0</span>8</pre></div>"
            ],
            "text/plain": [
              "<IPython.core.display.HTML object>"
            ]
          },
          "metadata": {},
          "output_type": "display_data"
        },
        {
          "metadata": {
            "tags": null
          },
          "name": "stdout",
          "output_type": "stream",
          "text": [
            "Correct:   468*208=97344 \n",
            "Correct:    40*184=7360  \n",
            "Correct:    624*82=51168 \n",
            "Correct:   200*397=79400 \n",
            "Correct:   600*888=532800\n",
            "================================================================================\n",
            "\n",
            "\n",
            "\n",
            "================================================================================\n",
            "max_digits=3, sum_cot=False, reverse_cot=True\n",
            "================================================================================\n",
            "===== Training =====\n",
            "block_size=20\n",
            "tokens per iteration will be: 2,560\n",
            "Initializing a new model from scratch\n",
            "number of parameters: 1.18M\n",
            "num decayed parameter tensors: 26, with 1,184,256 parameters\n",
            "num non-decayed parameter tensors: 13, with 1,664 parameters\n",
            "using fused AdamW: True\n",
            "step 0: train loss 2.7490, val loss 2.7630, train acc 0.1173, val acc 0.1073\n",
            "iter 0: loss 2.7352, time 103.92ms, accuracy=0.124\n",
            "iter 500: loss 0.7267, time 10.75ms, accuracy=0.725\n",
            "step 1000: train loss 0.6511, val loss 0.6510, train acc 0.7487, val acc 0.7441\n",
            "iter 1000: loss 0.6580, time 132.87ms, accuracy=0.743\n",
            "iter 1500: loss 0.5905, time 11.80ms, accuracy=0.767\n",
            "step 2000: train loss 0.5099, val loss 0.5200, train acc 0.7930, val acc 0.7877\n",
            "iter 2000: loss 0.5134, time 136.39ms, accuracy=0.785\n",
            "iter 2500: loss 0.4275, time 11.14ms, accuracy=0.825\n",
            "step 3000: train loss 0.4071, val loss 0.4108, train acc 0.8290, val acc 0.8294\n",
            "iter 3000: loss 0.3988, time 91.44ms, accuracy=0.828\n",
            "iter 3500: loss 0.3733, time 11.46ms, accuracy=0.841\n",
            "step 4000: train loss 0.3852, val loss 0.3911, train acc 0.8395, val acc 0.8319\n",
            "iter 4000: loss 0.3962, time 94.89ms, accuracy=0.834\n",
            "iter 4500: loss 0.3595, time 10.93ms, accuracy=0.847\n",
            "step 5000: train loss 0.3747, val loss 0.3750, train acc 0.8425, val acc 0.8434\n",
            "iter 5000: loss 0.3873, time 109.72ms, accuracy=0.839\n",
            "\n",
            "\n",
            "===== Evaluation =====\n",
            "Auto-regressive Generation\n",
            "Sequence-Level Accuracy: 0.0370\n",
            "Character-Level Accuracy: 0.6091\n",
            "\n",
            "Examples of correct/incorrect sequences:\n",
            "Incorrect: 733*548=486104=401684\n"
          ]
        },
        {
          "data": {
            "text/html": [
              "<div style=\"margin-left: 20px;\"><pre>Target: 733*548=486104=401684</pre></div>"
            ],
            "text/plain": [
              "<IPython.core.display.HTML object>"
            ]
          },
          "metadata": {},
          "output_type": "display_data"
        },
        {
          "data": {
            "text/html": [
              "<div style=\"margin-left: 20px;\"><pre>Output: 733*548=4<span style=\"color: #FF0000; text-decoration: line-through;\">0</span><span style=\"color: #FF0000; text-decoration: line-through;\">0</span><span style=\"color: #FF0000; text-decoration: line-through;\">5</span><span style=\"color: #FF0000; text-decoration: line-through;\">9</span><span style=\"color: #FF0000; text-decoration: line-through;\">3</span>=<span style=\"color: #FF0000; text-decoration: line-through;\">3</span><span style=\"color: #FF0000; text-decoration: line-through;\">9</span><span style=\"color: #FF0000; text-decoration: line-through;\">5</span><span style=\"color: #FF0000; text-decoration: line-through;\">0</span><span style=\"color: #FF0000; text-decoration: line-through;\">0</span>4</pre></div>"
            ],
            "text/plain": [
              "<IPython.core.display.HTML object>"
            ]
          },
          "metadata": {},
          "output_type": "display_data"
        },
        {
          "metadata": {
            "tags": null
          },
          "name": "stdout",
          "output_type": "stream",
          "text": [
            "Incorrect: 557*969=337935=539733\n"
          ]
        },
        {
          "data": {
            "text/html": [
              "<div style=\"margin-left: 20px;\"><pre>Target: 557*969=337935=539733</pre></div>"
            ],
            "text/plain": [
              "<IPython.core.display.HTML object>"
            ]
          },
          "metadata": {},
          "output_type": "display_data"
        },
        {
          "data": {
            "text/html": [
              "<div style=\"margin-left: 20px;\"><pre>Output: 557*969=3<span style=\"color: #FF0000; text-decoration: line-through;\">5</span><span style=\"color: #FF0000; text-decoration: line-through;\">4</span><span style=\"color: #FF0000; text-decoration: line-through;\">6</span>35=53<span style=\"color: #FF0000; text-decoration: line-through;\">6</span><span style=\"color: #FF0000; text-decoration: line-through;\">4</span><span style=\"color: #FF0000; text-decoration: line-through;\">5</span>3</pre></div>"
            ],
            "text/plain": [
              "<IPython.core.display.HTML object>"
            ]
          },
          "metadata": {},
          "output_type": "display_data"
        },
        {
          "metadata": {
            "tags": null
          },
          "name": "stdout",
          "output_type": "stream",
          "text": [
            "Incorrect: 732*592=443334=433344\n"
          ]
        },
        {
          "data": {
            "text/html": [
              "<div style=\"margin-left: 20px;\"><pre>Target: 732*592=443334=433344</pre></div>"
            ],
            "text/plain": [
              "<IPython.core.display.HTML object>"
            ]
          },
          "metadata": {},
          "output_type": "display_data"
        },
        {
          "data": {
            "text/html": [
              "<div style=\"margin-left: 20px;\"><pre>Output: 732*592=4<span style=\"color: #FF0000; text-decoration: line-through;\">8</span><span style=\"color: #FF0000; text-decoration: line-through;\">5</span><span style=\"color: #FF0000; text-decoration: line-through;\">5</span>34=43<span style=\"color: #FF0000; text-decoration: line-through;\">5</span><span style=\"color: #FF0000; text-decoration: line-through;\">5</span><span style=\"color: #FF0000; text-decoration: line-through;\">8</span>4</pre></div>"
            ],
            "text/plain": [
              "<IPython.core.display.HTML object>"
            ]
          },
          "metadata": {},
          "output_type": "display_data"
        },
        {
          "metadata": {
            "tags": null
          },
          "name": "stdout",
          "output_type": "stream",
          "text": [
            "Incorrect: 982*960=027249=942720\n"
          ]
        },
        {
          "data": {
            "text/html": [
              "<div style=\"margin-left: 20px;\"><pre>Target: 982*960=027249=942720</pre></div>"
            ],
            "text/plain": [
              "<IPython.core.display.HTML object>"
            ]
          },
          "metadata": {},
          "output_type": "display_data"
        },
        {
          "data": {
            "text/html": [
              "<div style=\"margin-left: 20px;\"><pre>Output: 982*960=02<span style=\"color: #FF0000; text-decoration: line-through;\">9</span><span style=\"color: #FF0000; text-decoration: line-through;\">1</span>49=94<span style=\"color: #FF0000; text-decoration: line-through;\">1</span><span style=\"color: #FF0000; text-decoration: line-through;\">9</span>20</pre></div>"
            ],
            "text/plain": [
              "<IPython.core.display.HTML object>"
            ]
          },
          "metadata": {},
          "output_type": "display_data"
        },
        {
          "metadata": {
            "tags": null
          },
          "name": "stdout",
          "output_type": "stream",
          "text": [
            "Incorrect: 784*877=865786=687568\n"
          ]
        },
        {
          "data": {
            "text/html": [
              "<div style=\"margin-left: 20px;\"><pre>Target: 784*877=865786=687568</pre></div>"
            ],
            "text/plain": [
              "<IPython.core.display.HTML object>"
            ]
          },
          "metadata": {},
          "output_type": "display_data"
        },
        {
          "data": {
            "text/html": [
              "<div style=\"margin-left: 20px;\"><pre>Output: 784*877=8<span style=\"color: #FF0000; text-decoration: line-through;\">8</span><span style=\"color: #FF0000; text-decoration: line-through;\">2</span><span style=\"color: #FF0000; text-decoration: line-through;\">5</span>86=68<span style=\"color: #FF0000; text-decoration: line-through;\">5</span><span style=\"color: #FF0000; text-decoration: line-through;\">2</span><span style=\"color: #FF0000; text-decoration: line-through;\">8</span>8</pre></div>"
            ],
            "text/plain": [
              "<IPython.core.display.HTML object>"
            ]
          },
          "metadata": {},
          "output_type": "display_data"
        },
        {
          "metadata": {
            "tags": null
          },
          "name": "stdout",
          "output_type": "stream",
          "text": [
            "Correct:    60*279=04761=16740  \n",
            "Correct:    575*78=05844=44850  \n",
            "Correct:   751*160=061021=120160\n",
            "Correct:     189*5=549=945      \n",
            "Correct:   650*220=000341=143000\n",
            "================================================================================\n",
            "\n",
            "\n",
            "\n",
            "================================================================================\n",
            "max_digits=3, sum_cot=True, reverse_cot=False\n",
            "================================================================================\n",
            "===== Training =====\n",
            "block_size=52\n",
            "tokens per iteration will be: 6,656\n",
            "Initializing a new model from scratch\n",
            "number of parameters: 1.18M\n",
            "num decayed parameter tensors: 26, with 1,188,352 parameters\n",
            "num non-decayed parameter tensors: 13, with 1,664 parameters\n",
            "using fused AdamW: True\n",
            "step 0: train loss 2.7027, val loss 2.7036, train acc 0.1751, val acc 0.1720\n",
            "iter 0: loss 2.7003, time 104.40ms, accuracy=0.173\n",
            "iter 500: loss 0.7807, time 15.14ms, accuracy=0.724\n",
            "step 1000: train loss 0.2780, val loss 0.2776, train acc 0.8964, val acc 0.8954\n",
            "iter 1000: loss 0.2813, time 132.01ms, accuracy=0.897\n",
            "iter 1500: loss 0.0386, time 14.17ms, accuracy=0.987\n",
            "step 2000: train loss 0.0204, val loss 0.0174, train acc 0.9934, val acc 0.9941\n",
            "iter 2000: loss 0.0176, time 105.57ms, accuracy=0.993\n",
            "iter 2500: loss 0.0102, time 14.16ms, accuracy=0.997\n",
            "step 3000: train loss 0.0073, val loss 0.0082, train acc 0.9977, val acc 0.9971\n",
            "iter 3000: loss 0.0053, time 103.91ms, accuracy=0.998\n",
            "iter 3500: loss 0.0030, time 18.59ms, accuracy=0.999\n",
            "step 4000: train loss 0.0020, val loss 0.0026, train acc 0.9993, val acc 0.9989\n",
            "iter 4000: loss 0.0026, time 105.98ms, accuracy=0.999\n",
            "iter 4500: loss 0.0010, time 17.32ms, accuracy=1.000\n",
            "step 5000: train loss 0.0005, val loss 0.0007, train acc 0.9998, val acc 0.9998\n",
            "iter 5000: loss 0.0004, time 115.56ms, accuracy=1.000\n",
            "\n",
            "\n",
            "===== Evaluation =====\n",
            "Auto-regressive Generation\n",
            "Sequence-Level Accuracy: 0.9890\n",
            "Character-Level Accuracy: 0.9992\n",
            "\n",
            "Examples of correct/incorrect sequences:\n",
            "Correct:   733*548=1644[1644]+16440[18084]+383600[401684]=401684\n",
            "Correct:   557*969=6783[6783]+48450[55233]+484500[539733]=539733\n",
            "Correct:   732*592=1184[1184]+17760[18944]+414400[433344]=433344\n",
            "Correct:   982*960=1920[1920]+76800[78720]+864000[942720]=942720\n",
            "Correct:   784*877=3508[3508]+70160[73668]+613900[687568]=687568\n",
            "Incorrect: 790*253=0[0]+22770[22770]+177100[199870]=199870      \n"
          ]
        },
        {
          "data": {
            "text/html": [
              "<div style=\"margin-left: 20px;\"><pre>Target: 790*253=0[0]+22770[22770]+177100[199870]=199870      </pre></div>"
            ],
            "text/plain": [
              "<IPython.core.display.HTML object>"
            ]
          },
          "metadata": {},
          "output_type": "display_data"
        },
        {
          "data": {
            "text/html": [
              "<div style=\"margin-left: 20px;\"><pre>Output: 790*253=0[0]+22770[22770]+177100[1<span style=\"color: #FF0000; text-decoration: line-through;\">0</span>9870]=1<span style=\"color: #FF0000; text-decoration: line-through;\">0</span>9870      </pre></div>"
            ],
            "text/plain": [
              "<IPython.core.display.HTML object>"
            ]
          },
          "metadata": {},
          "output_type": "display_data"
        },
        {
          "metadata": {
            "tags": null
          },
          "name": "stdout",
          "output_type": "stream",
          "text": [
            "Incorrect:  172*97=194[194]+6790[6984]+9700[16684]=16684        \n"
          ]
        },
        {
          "data": {
            "text/html": [
              "<div style=\"margin-left: 20px;\"><pre>Target:  172*97=194[194]+6790[6984]+9700[16684]=16684        </pre></div>"
            ],
            "text/plain": [
              "<IPython.core.display.HTML object>"
            ]
          },
          "metadata": {},
          "output_type": "display_data"
        },
        {
          "data": {
            "text/html": [
              "<div style=\"margin-left: 20px;\"><pre>Output:  172*97=194[194]+6790[<span style=\"color: #FF0000; text-decoration: line-through;\">7</span>984]+9700[1<span style=\"color: #FF0000; text-decoration: line-through;\">7</span>684]=1<span style=\"color: #FF0000; text-decoration: line-through;\">7</span>684        </pre></div>"
            ],
            "text/plain": [
              "<IPython.core.display.HTML object>"
            ]
          },
          "metadata": {},
          "output_type": "display_data"
        },
        {
          "metadata": {
            "tags": null
          },
          "name": "stdout",
          "output_type": "stream",
          "text": [
            "Incorrect: 924*649=2596[2596]+12980[15576]+584100[599676]=599676\n"
          ]
        },
        {
          "data": {
            "text/html": [
              "<div style=\"margin-left: 20px;\"><pre>Target: 924*649=2596[2596]+12980[15576]+584100[599676]=599676</pre></div>"
            ],
            "text/plain": [
              "<IPython.core.display.HTML object>"
            ]
          },
          "metadata": {},
          "output_type": "display_data"
        },
        {
          "data": {
            "text/html": [
              "<div style=\"margin-left: 20px;\"><pre>Output: 924*649=2596[2596]+12980[15576]+584100[<span style=\"color: #FF0000; text-decoration: line-through;\">6</span>99676]=<span style=\"color: #FF0000; text-decoration: line-through;\">6</span>99676</pre></div>"
            ],
            "text/plain": [
              "<IPython.core.display.HTML object>"
            ]
          },
          "metadata": {},
          "output_type": "display_data"
        },
        {
          "metadata": {
            "tags": null
          },
          "name": "stdout",
          "output_type": "stream",
          "text": [
            "Incorrect: 249*818=7362[7362]+32720[40082]+163600[203682]=203682\n"
          ]
        },
        {
          "data": {
            "text/html": [
              "<div style=\"margin-left: 20px;\"><pre>Target: 249*818=7362[7362]+32720[40082]+163600[203682]=203682</pre></div>"
            ],
            "text/plain": [
              "<IPython.core.display.HTML object>"
            ]
          },
          "metadata": {},
          "output_type": "display_data"
        },
        {
          "data": {
            "text/html": [
              "<div style=\"margin-left: 20px;\"><pre>Output: 249*818=7362[7362]+32720[<span style=\"color: #FF0000; text-decoration: line-through;\">3</span>0082]+163600[<span style=\"color: #FF0000; text-decoration: line-through;\">1</span><span style=\"color: #FF0000; text-decoration: line-through;\">9</span>3682]=<span style=\"color: #FF0000; text-decoration: line-through;\">1</span><span style=\"color: #FF0000; text-decoration: line-through;\">9</span>3682</pre></div>"
            ],
            "text/plain": [
              "<IPython.core.display.HTML object>"
            ]
          },
          "metadata": {},
          "output_type": "display_data"
        },
        {
          "metadata": {
            "tags": null
          },
          "name": "stdout",
          "output_type": "stream",
          "text": [
            "Incorrect: 535*114=570[570]+3420[3990]+57000[60990]=60990       \n"
          ]
        },
        {
          "data": {
            "text/html": [
              "<div style=\"margin-left: 20px;\"><pre>Target: 535*114=570[570]+3420[3990]+57000[60990]=60990       </pre></div>"
            ],
            "text/plain": [
              "<IPython.core.display.HTML object>"
            ]
          },
          "metadata": {},
          "output_type": "display_data"
        },
        {
          "data": {
            "text/html": [
              "<div style=\"margin-left: 20px;\"><pre>Output: 535*114=570[570]+3420[<span style=\"color: #FF0000; text-decoration: line-through;\">4</span>990]+57000[6<span style=\"color: #FF0000; text-decoration: line-through;\">1</span>990]=6<span style=\"color: #FF0000; text-decoration: line-through;\">1</span>990       </pre></div>"
            ],
            "text/plain": [
              "<IPython.core.display.HTML object>"
            ]
          },
          "metadata": {},
          "output_type": "display_data"
        },
        {
          "output_type": "stream",
          "name": "stdout",
          "text": [
            "================================================================================\n",
            "\n",
            "\n",
            "\n",
            "================================================================================\n",
            "max_digits=3, sum_cot=True, reverse_cot=True\n",
            "================================================================================\n",
            "===== Training =====\n",
            "block_size=52\n",
            "tokens per iteration will be: 6,656\n",
            "Initializing a new model from scratch\n",
            "number of parameters: 1.18M\n",
            "num decayed parameter tensors: 26, with 1,188,352 parameters\n",
            "num non-decayed parameter tensors: 13, with 1,664 parameters\n",
            "using fused AdamW: True\n",
            "step 0: train loss 2.7044, val loss 2.7051, train acc 0.1751, val acc 0.1721\n",
            "iter 0: loss 2.7001, time 124.66ms, accuracy=0.173\n",
            "iter 500: loss 0.7022, time 14.57ms, accuracy=0.743\n",
            "step 1000: train loss 0.0668, val loss 0.0670, train acc 0.9801, val acc 0.9810\n",
            "iter 1000: loss 0.0662, time 143.75ms, accuracy=0.979\n",
            "iter 1500: loss 0.0115, time 14.36ms, accuracy=0.997\n",
            "step 2000: train loss 0.0028, val loss 0.0026, train acc 0.9994, val acc 0.9995\n",
            "iter 2000: loss 0.0020, time 106.01ms, accuracy=1.000\n",
            "iter 2500: loss 0.0024, time 14.16ms, accuracy=0.999\n",
            "step 3000: train loss 0.0027, val loss 0.0021, train acc 0.9993, val acc 0.9995\n",
            "iter 3000: loss 0.0042, time 104.63ms, accuracy=0.999\n",
            "iter 3500: loss 0.0001, time 14.73ms, accuracy=1.000\n",
            "step 4000: train loss 0.0000, val loss 0.0000, train acc 1.0000, val acc 1.0000\n",
            "iter 4000: loss 0.0000, time 104.73ms, accuracy=1.000\n",
            "iter 4500: loss 0.0000, time 13.81ms, accuracy=1.000\n",
            "step 5000: train loss 0.0000, val loss 0.0000, train acc 1.0000, val acc 1.0000\n",
            "iter 5000: loss 0.0000, time 106.19ms, accuracy=1.000\n",
            "\n",
            "\n",
            "===== Evaluation =====\n",
            "Auto-regressive Generation\n",
            "Sequence-Level Accuracy: 1.0000\n",
            "Character-Level Accuracy: 1.0000\n",
            "\n",
            "Examples of correct/incorrect sequences:\n",
            "Correct:   733*548=4461[4461]+04461[48081]+006383[486104]=401684\n",
            "Correct:   557*969=3876[3876]+05484[33255]+005484[337935]=539733\n",
            "Correct:   732*592=4811[4811]+06771[44981]+004414[443334]=433344\n",
            "Correct:   982*960=0291[0291]+00867[02787]+000468[027249]=942720\n",
            "Correct:   784*877=8053[8053]+06107[86637]+009316[865786]=687568\n",
            "================================================================================\n",
            "\n",
            "\n",
            "\n",
            "================================================================================\n",
            "max_digits=6, sum_cot=False, reverse_cot=False\n",
            "================================================================================\n",
            "===== Training =====\n",
            "block_size=25\n",
            "tokens per iteration will be: 3,200\n",
            "Initializing a new model from scratch\n",
            "number of parameters: 1.18M\n",
            "num decayed parameter tensors: 26, with 1,184,896 parameters\n",
            "num non-decayed parameter tensors: 13, with 1,664 parameters\n",
            "using fused AdamW: True\n",
            "step 0: train loss 2.8172, val loss 2.8107, train acc 0.1015, val acc 0.1021\n",
            "iter 0: loss 2.8150, time 168.93ms, accuracy=0.098\n",
            "iter 500: loss 2.0285, time 11.27ms, accuracy=0.202\n",
            "step 1000: train loss 1.9702, val loss 1.9686, train acc 0.2192, val acc 0.2237\n",
            "iter 1000: loss 1.9589, time 144.26ms, accuracy=0.217\n",
            "iter 1500: loss 1.8982, time 11.55ms, accuracy=0.263\n",
            "step 2000: train loss 1.8059, val loss 1.8025, train acc 0.2929, val acc 0.2915\n",
            "iter 2000: loss 1.7932, time 97.41ms, accuracy=0.295\n",
            "iter 2500: loss 1.7568, time 11.90ms, accuracy=0.305\n",
            "step 3000: train loss 1.7253, val loss 1.7173, train acc 0.3215, val acc 0.3244\n",
            "iter 3000: loss 1.7357, time 94.66ms, accuracy=0.317\n",
            "iter 3500: loss 1.6781, time 11.68ms, accuracy=0.328\n",
            "step 4000: train loss 1.6726, val loss 1.6755, train acc 0.3450, val acc 0.3420\n",
            "iter 4000: loss 1.6835, time 95.73ms, accuracy=0.340\n",
            "iter 4500: loss 1.6349, time 11.55ms, accuracy=0.363\n",
            "step 5000: train loss 1.6411, val loss 1.6509, train acc 0.3571, val acc 0.3610\n",
            "iter 5000: loss 1.6549, time 94.86ms, accuracy=0.340\n",
            "\n",
            "\n",
            "===== Evaluation =====\n",
            "Auto-regressive Generation\n",
            "Sequence-Level Accuracy: 0.0000\n",
            "Character-Level Accuracy: 0.3310\n",
            "\n",
            "Examples of correct/incorrect sequences:\n",
            "Incorrect:  12901*522966=6746784366  \n"
          ]
        },
        {
          "output_type": "display_data",
          "data": {
            "text/plain": [
              "<IPython.core.display.HTML object>"
            ],
            "text/html": [
              "<div style=\"margin-left: 20px;\"><pre>Target:  12901*522966=6746784366  </pre></div>"
            ]
          },
          "metadata": {}
        },
        {
          "output_type": "display_data",
          "data": {
            "text/plain": [
              "<IPython.core.display.HTML object>"
            ],
            "text/html": [
              "<div style=\"margin-left: 20px;\"><pre>Output:  12901*522966=67<span style=\"color: #FF0000; text-decoration: line-through;\">1</span><span style=\"color: #FF0000; text-decoration: line-through;\">9</span><span style=\"color: #FF0000; text-decoration: line-through;\">9</span><span style=\"color: #FF0000; text-decoration: line-through;\">9</span><span style=\"color: #FF0000; text-decoration: line-through;\">9</span><span style=\"color: #FF0000; text-decoration: line-through;\">9</span><span style=\"color: #FF0000; text-decoration: line-through;\">9</span>6  </pre></div>"
            ]
          },
          "metadata": {}
        },
        {
          "output_type": "stream",
          "name": "stdout",
          "text": [
            "Incorrect: 436423*888037=387559771651\n"
          ]
        },
        {
          "output_type": "display_data",
          "data": {
            "text/plain": [
              "<IPython.core.display.HTML object>"
            ],
            "text/html": [
              "<div style=\"margin-left: 20px;\"><pre>Target: 436423*888037=387559771651</pre></div>"
            ]
          },
          "metadata": {}
        },
        {
          "output_type": "display_data",
          "data": {
            "text/plain": [
              "<IPython.core.display.HTML object>"
            ],
            "text/html": [
              "<div style=\"margin-left: 20px;\"><pre>Output: 436423*888037=38<span style=\"color: #FF0000; text-decoration: line-through;\">0</span><span style=\"color: #FF0000; text-decoration: line-through;\">0</span><span style=\"color: #FF0000; text-decoration: line-through;\">0</span><span style=\"color: #FF0000; text-decoration: line-through;\">0</span><span style=\"color: #FF0000; text-decoration: line-through;\">0</span><span style=\"color: #FF0000; text-decoration: line-through;\">0</span><span style=\"color: #FF0000; text-decoration: line-through;\">0</span><span style=\"color: #FF0000; text-decoration: line-through;\">0</span><span style=\"color: #FF0000; text-decoration: line-through;\">3</span>1</pre></div>"
            ]
          },
          "metadata": {}
        },
        {
          "output_type": "stream",
          "name": "stdout",
          "text": [
            "Incorrect: 101586*724300=73578739800 \n"
          ]
        },
        {
          "output_type": "display_data",
          "data": {
            "text/plain": [
              "<IPython.core.display.HTML object>"
            ],
            "text/html": [
              "<div style=\"margin-left: 20px;\"><pre>Target: 101586*724300=73578739800 </pre></div>"
            ]
          },
          "metadata": {}
        },
        {
          "output_type": "display_data",
          "data": {
            "text/plain": [
              "<IPython.core.display.HTML object>"
            ],
            "text/html": [
              "<div style=\"margin-left: 20px;\"><pre>Output: 101586*724300=73<span style=\"color: #FF0000; text-decoration: line-through;\">1</span><span style=\"color: #FF0000; text-decoration: line-through;\">9</span><span style=\"color: #FF0000; text-decoration: line-through;\">9</span><span style=\"color: #FF0000; text-decoration: line-through;\">9</span><span style=\"color: #FF0000; text-decoration: line-through;\">9</span>9800 </pre></div>"
            ]
          },
          "metadata": {}
        },
        {
          "output_type": "stream",
          "name": "stdout",
          "text": [
            "Incorrect: 697557*730264=509400765048\n"
          ]
        },
        {
          "output_type": "display_data",
          "data": {
            "text/plain": [
              "<IPython.core.display.HTML object>"
            ],
            "text/html": [
              "<div style=\"margin-left: 20px;\"><pre>Target: 697557*730264=509400765048</pre></div>"
            ]
          },
          "metadata": {}
        },
        {
          "output_type": "display_data",
          "data": {
            "text/plain": [
              "<IPython.core.display.HTML object>"
            ],
            "text/html": [
              "<div style=\"margin-left: 20px;\"><pre>Output: 697557*730264=50<span style=\"color: #FF0000; text-decoration: line-through;\">0</span><span style=\"color: #FF0000; text-decoration: line-through;\">0</span><span style=\"color: #FF0000; text-decoration: line-through;\">8</span><span style=\"color: #FF0000; text-decoration: line-through;\">8</span><span style=\"color: #FF0000; text-decoration: line-through;\">8</span><span style=\"color: #FF0000; text-decoration: line-through;\">8</span><span style=\"color: #FF0000; text-decoration: line-through;\">0</span>0<span style=\"color: #FF0000; text-decoration: line-through;\">0</span>8</pre></div>"
            ]
          },
          "metadata": {}
        },
        {
          "output_type": "stream",
          "name": "stdout",
          "text": [
            "Incorrect:   5571*384492=2142004932  \n"
          ]
        },
        {
          "output_type": "display_data",
          "data": {
            "text/plain": [
              "<IPython.core.display.HTML object>"
            ],
            "text/html": [
              "<div style=\"margin-left: 20px;\"><pre>Target:   5571*384492=2142004932  </pre></div>"
            ]
          },
          "metadata": {}
        },
        {
          "output_type": "display_data",
          "data": {
            "text/plain": [
              "<IPython.core.display.HTML object>"
            ],
            "text/html": [
              "<div style=\"margin-left: 20px;\"><pre>Output:   5571*384492=21<span style=\"color: #FF0000; text-decoration: line-through;\">8</span><span style=\"color: #FF0000; text-decoration: line-through;\">8</span><span style=\"color: #FF0000; text-decoration: line-through;\">8</span><span style=\"color: #FF0000; text-decoration: line-through;\">8</span><span style=\"color: #FF0000; text-decoration: line-through;\">8</span><span style=\"color: #FF0000; text-decoration: line-through;\">7</span><span style=\"color: #FF0000; text-decoration: line-through;\">7</span>2  </pre></div>"
            ]
          },
          "metadata": {}
        },
        {
          "output_type": "stream",
          "name": "stdout",
          "text": [
            "================================================================================\n",
            "\n",
            "\n",
            "\n",
            "================================================================================\n",
            "max_digits=6, sum_cot=False, reverse_cot=True\n",
            "================================================================================\n",
            "===== Training =====\n",
            "block_size=38\n",
            "tokens per iteration will be: 4,864\n",
            "Initializing a new model from scratch\n",
            "number of parameters: 1.18M\n",
            "num decayed parameter tensors: 26, with 1,186,560 parameters\n",
            "num non-decayed parameter tensors: 13, with 1,664 parameters\n",
            "using fused AdamW: True\n",
            "step 0: train loss 2.7949, val loss 2.7887, train acc 0.1077, val acc 0.1137\n",
            "iter 0: loss 2.8116, time 135.99ms, accuracy=0.092\n",
            "iter 500: loss 0.9673, time 12.07ms, accuracy=0.631\n",
            "step 1000: train loss 0.9057, val loss 0.9032, train acc 0.6497, val acc 0.6513\n",
            "iter 1000: loss 0.9136, time 100.31ms, accuracy=0.649\n",
            "iter 1500: loss 0.9018, time 12.35ms, accuracy=0.641\n",
            "step 2000: train loss 0.8619, val loss 0.8645, train acc 0.6623, val acc 0.6577\n",
            "iter 2000: loss 0.8595, time 96.48ms, accuracy=0.666\n",
            "iter 2500: loss 0.8216, time 16.09ms, accuracy=0.679\n",
            "step 3000: train loss 0.8142, val loss 0.8127, train acc 0.6793, val acc 0.6832\n",
            "iter 3000: loss 0.8174, time 109.55ms, accuracy=0.678\n",
            "iter 3500: loss 0.7833, time 12.17ms, accuracy=0.686\n",
            "step 4000: train loss 0.7721, val loss 0.7722, train acc 0.6959, val acc 0.6935\n",
            "iter 4000: loss 0.7704, time 101.59ms, accuracy=0.696\n",
            "iter 4500: loss 0.7751, time 11.76ms, accuracy=0.692\n",
            "step 5000: train loss 0.7608, val loss 0.7575, train acc 0.6973, val acc 0.7001\n",
            "iter 5000: loss 0.7640, time 95.13ms, accuracy=0.691\n",
            "\n",
            "\n",
            "===== Evaluation =====\n",
            "Auto-regressive Generation\n",
            "Sequence-Level Accuracy: 0.0000\n",
            "Character-Level Accuracy: 0.3580\n",
            "\n",
            "Examples of correct/incorrect sequences:\n",
            "Incorrect:  12901*522966=6634876476=6746784366    \n"
          ]
        },
        {
          "output_type": "display_data",
          "data": {
            "text/plain": [
              "<IPython.core.display.HTML object>"
            ],
            "text/html": [
              "<div style=\"margin-left: 20px;\"><pre>Target:  12901*522966=6634876476=6746784366    </pre></div>"
            ]
          },
          "metadata": {}
        },
        {
          "output_type": "display_data",
          "data": {
            "text/plain": [
              "<IPython.core.display.HTML object>"
            ],
            "text/html": [
              "<div style=\"margin-left: 20px;\"><pre>Output:  12901*522966=6<span style=\"color: #FF0000; text-decoration: line-through;\">0</span>3<span style=\"color: #FF0000; text-decoration: line-through;\">3</span><span style=\"color: #FF0000; text-decoration: line-through;\">3</span><span style=\"color: #FF0000; text-decoration: line-through;\">0</span><span style=\"color: #FF0000; text-decoration: line-through;\">0</span><span style=\"color: #FF0000; text-decoration: line-through;\">8</span><span style=\"color: #FF0000; text-decoration: line-through;\">2</span>6=6<span style=\"color: #FF0000; text-decoration: line-through;\">2</span><span style=\"color: #FF0000; text-decoration: line-through;\">8</span><span style=\"color: #FF0000; text-decoration: line-through;\">0</span><span style=\"color: #FF0000; text-decoration: line-through;\">0</span><span style=\"color: #FF0000; text-decoration: line-through;\">3</span><span style=\"color: #FF0000; text-decoration: line-through;\">3</span>3<span style=\"color: #FF0000; text-decoration: line-through;\">0</span>6    </pre></div>"
            ]
          },
          "metadata": {}
        },
        {
          "output_type": "stream",
          "name": "stdout",
          "text": [
            "Incorrect: 436423*888037=156177955783=387559771651\n"
          ]
        },
        {
          "output_type": "display_data",
          "data": {
            "text/plain": [
              "<IPython.core.display.HTML object>"
            ],
            "text/html": [
              "<div style=\"margin-left: 20px;\"><pre>Target: 436423*888037=156177955783=387559771651</pre></div>"
            ]
          },
          "metadata": {}
        },
        {
          "output_type": "display_data",
          "data": {
            "text/plain": [
              "<IPython.core.display.HTML object>"
            ],
            "text/html": [
              "<div style=\"margin-left: 20px;\"><pre>Output: 436423*888037=1<span style=\"color: #FF0000; text-decoration: line-through;\">7</span><span style=\"color: #FF0000; text-decoration: line-through;\">7</span><span style=\"color: #FF0000; text-decoration: line-through;\">7</span>7<span style=\"color: #FF0000; text-decoration: line-through;\">5</span><span style=\"color: #FF0000; text-decoration: line-through;\">4</span><span style=\"color: #FF0000; text-decoration: line-through;\">4</span><span style=\"color: #FF0000; text-decoration: line-through;\">4</span><span style=\"color: #FF0000; text-decoration: line-through;\">5</span>83=38<span style=\"color: #FF0000; text-decoration: line-through;\">5</span><span style=\"color: #FF0000; text-decoration: line-through;\">4</span><span style=\"color: #FF0000; text-decoration: line-through;\">4</span><span style=\"color: #FF0000; text-decoration: line-through;\">4</span><span style=\"color: #FF0000; text-decoration: line-through;\">5</span>7<span style=\"color: #FF0000; text-decoration: line-through;\">7</span><span style=\"color: #FF0000; text-decoration: line-through;\">7</span><span style=\"color: #FF0000; text-decoration: line-through;\">7</span>1</pre></div>"
            ]
          },
          "metadata": {}
        },
        {
          "output_type": "stream",
          "name": "stdout",
          "text": [
            "Incorrect: 101586*724300=00893787537=73578739800  \n"
          ]
        },
        {
          "output_type": "display_data",
          "data": {
            "text/plain": [
              "<IPython.core.display.HTML object>"
            ],
            "text/html": [
              "<div style=\"margin-left: 20px;\"><pre>Target: 101586*724300=00893787537=73578739800  </pre></div>"
            ]
          },
          "metadata": {}
        },
        {
          "output_type": "display_data",
          "data": {
            "text/plain": [
              "<IPython.core.display.HTML object>"
            ],
            "text/html": [
              "<div style=\"margin-left: 20px;\"><pre>Output: 101586*724300=00<span style=\"color: #FF0000; text-decoration: line-through;\">0</span><span style=\"color: #FF0000; text-decoration: line-through;\">7</span><span style=\"color: #FF0000; text-decoration: line-through;\">7</span>7<span style=\"color: #FF0000; text-decoration: line-through;\">0</span><span style=\"color: #FF0000; text-decoration: line-through;\">0</span><span style=\"color: #FF0000; text-decoration: line-through;\">2</span><span style=\"color: #FF0000; text-decoration: line-through;\">2</span>7=7<span style=\"color: #FF0000; text-decoration: line-through;\">2</span><span style=\"color: #FF0000; text-decoration: line-through;\">2</span><span style=\"color: #FF0000; text-decoration: line-through;\">0</span><span style=\"color: #FF0000; text-decoration: line-through;\">0</span>7<span style=\"color: #FF0000; text-decoration: line-through;\">7</span><span style=\"color: #FF0000; text-decoration: line-through;\">7</span><span style=\"color: #FF0000; text-decoration: line-through;\">0</span>00  </pre></div>"
            ]
          },
          "metadata": {}
        },
        {
          "output_type": "stream",
          "name": "stdout",
          "text": [
            "Incorrect: 697557*730264=840567004905=509400765048\n"
          ]
        },
        {
          "output_type": "display_data",
          "data": {
            "text/plain": [
              "<IPython.core.display.HTML object>"
            ],
            "text/html": [
              "<div style=\"margin-left: 20px;\"><pre>Target: 697557*730264=840567004905=509400765048</pre></div>"
            ]
          },
          "metadata": {}
        },
        {
          "output_type": "display_data",
          "data": {
            "text/plain": [
              "<IPython.core.display.HTML object>"
            ],
            "text/html": [
              "<div style=\"margin-left: 20px;\"><pre>Output: 697557*730264=84<span style=\"color: #FF0000; text-decoration: line-through;\">7</span>5<span style=\"color: #FF0000; text-decoration: line-through;\">0</span><span style=\"color: #FF0000; text-decoration: line-through;\">0</span>00<span style=\"color: #FF0000; text-decoration: line-through;\">0</span><span style=\"color: #FF0000; text-decoration: line-through;\">0</span><span style=\"color: #FF0000; text-decoration: line-through;\">1</span>5=5<span style=\"color: #FF0000; text-decoration: line-through;\">1</span><span style=\"color: #FF0000; text-decoration: line-through;\">0</span><span style=\"color: #FF0000; text-decoration: line-through;\">0</span>00<span style=\"color: #FF0000; text-decoration: line-through;\">0</span><span style=\"color: #FF0000; text-decoration: line-through;\">0</span>5<span style=\"color: #FF0000; text-decoration: line-through;\">7</span>48</pre></div>"
            ]
          },
          "metadata": {}
        },
        {
          "output_type": "stream",
          "name": "stdout",
          "text": [
            "Incorrect:   5571*384492=2394002412=2142004932    \n"
          ]
        },
        {
          "output_type": "display_data",
          "data": {
            "text/plain": [
              "<IPython.core.display.HTML object>"
            ],
            "text/html": [
              "<div style=\"margin-left: 20px;\"><pre>Target:   5571*384492=2394002412=2142004932    </pre></div>"
            ]
          },
          "metadata": {}
        },
        {
          "output_type": "display_data",
          "data": {
            "text/plain": [
              "<IPython.core.display.HTML object>"
            ],
            "text/html": [
              "<div style=\"margin-left: 20px;\"><pre>Output:   5571*384492=2<span style=\"color: #FF0000; text-decoration: line-through;\">9</span>9<span style=\"color: #FF0000; text-decoration: line-through;\">9</span><span style=\"color: #FF0000; text-decoration: line-through;\">9</span>0<span style=\"color: #FF0000; text-decoration: line-through;\">0</span>412=214<span style=\"color: #FF0000; text-decoration: line-through;\">0</span>0<span style=\"color: #FF0000; text-decoration: line-through;\">9</span><span style=\"color: #FF0000; text-decoration: line-through;\">9</span>9<span style=\"color: #FF0000; text-decoration: line-through;\">9</span>2    </pre></div>"
            ]
          },
          "metadata": {}
        },
        {
          "output_type": "stream",
          "name": "stdout",
          "text": [
            "================================================================================\n",
            "\n",
            "\n",
            "\n",
            "================================================================================\n",
            "max_digits=6, sum_cot=True, reverse_cot=False\n",
            "================================================================================\n",
            "===== Training =====\n",
            "block_size=157\n",
            "tokens per iteration will be: 20,096\n",
            "Initializing a new model from scratch\n",
            "number of parameters: 1.18M\n",
            "num decayed parameter tensors: 26, with 1,201,792 parameters\n",
            "num non-decayed parameter tensors: 13, with 1,664 parameters\n",
            "using fused AdamW: True\n",
            "step 0: train loss 2.6445, val loss 2.6497, train acc 0.2090, val acc 0.2053\n",
            "iter 0: loss 2.6436, time 361.06ms, accuracy=0.209\n",
            "iter 500: loss 1.3218, time 38.37ms, accuracy=0.538\n",
            "step 1000: train loss 0.9427, val loss 0.9413, train acc 0.6511, val acc 0.6534\n",
            "iter 1000: loss 0.9566, time 249.63ms, accuracy=0.644\n",
            "iter 1500: loss 0.2327, time 37.12ms, accuracy=0.907\n",
            "step 2000: train loss 0.0927, val loss 0.0835, train acc 0.9706, val acc 0.9725\n",
            "iter 2000: loss 0.0993, time 248.83ms, accuracy=0.967\n",
            "iter 2500: loss 0.0246, time 38.78ms, accuracy=0.991\n",
            "step 3000: train loss 0.0203, val loss 0.0218, train acc 0.9929, val acc 0.9926\n",
            "iter 3000: loss 0.0241, time 252.22ms, accuracy=0.992\n",
            "iter 3500: loss 0.0103, time 39.43ms, accuracy=0.997\n",
            "step 4000: train loss 0.0052, val loss 0.0062, train acc 0.9980, val acc 0.9977\n",
            "iter 4000: loss 0.0060, time 249.46ms, accuracy=0.998\n",
            "iter 4500: loss 0.0020, time 37.34ms, accuracy=0.999\n",
            "step 5000: train loss 0.0016, val loss 0.0019, train acc 0.9995, val acc 0.9993\n",
            "iter 5000: loss 0.0022, time 247.81ms, accuracy=0.999\n",
            "\n",
            "\n",
            "===== Evaluation =====\n",
            "Auto-regressive Generation\n",
            "Sequence-Level Accuracy: 0.9200\n",
            "Character-Level Accuracy: 0.9963\n",
            "\n",
            "Examples of correct/incorrect sequences:\n",
            "Correct:    12901*522966=522966[522966]+0[522966]+470669400[471192366]+1045932000[1517124366]+5229660000[6746784366]=6746784366                                          \n",
            "Correct:   436423*888037=2664111[2664111]+17760740[20424851]+355214800[375639651]+5328222000[5703861651]+26641110000[32344971651]+355214800000[387559771651]=387559771651\n",
            "Correct:   101586*724300=4345800[4345800]+57944000[62289800]+362150000[424439800]+724300000[1148739800]+0[1148739800]+72430000000[73578739800]=73578739800               \n",
            "Correct:   697557*730264=5111848[5111848]+36513200[41625048]+365132000[406757048]+5111848000[5518605048]+65723760000[71242365048]+438158400000[509400765048]=509400765048\n",
            "Correct:     5571*384492=384492[384492]+26914440[27298932]+192246000[219544932]+1922460000[2142004932]=2142004932                                                        \n",
            "Incorrect: 523790*322649=0[0]+29038410[29038410]+225854300[254892710]+967947000[1222839710]+6452980000[7675819710]+161324500000[169000319710]=169000319710               \n"
          ]
        },
        {
          "output_type": "display_data",
          "data": {
            "text/plain": [
              "<IPython.core.display.HTML object>"
            ],
            "text/html": [
              "<div style=\"margin-left: 20px;\"><pre>Target: 523790*322649=0[0]+29038410[29038410]+225854300[254892710]+967947000[1222839710]+6452980000[7675819710]+161324500000[169000319710]=169000319710               </pre></div>"
            ]
          },
          "metadata": {}
        },
        {
          "output_type": "display_data",
          "data": {
            "text/plain": [
              "<IPython.core.display.HTML object>"
            ],
            "text/html": [
              "<div style=\"margin-left: 20px;\"><pre>Output: 523790*322649=0[0]+29038410[29038410]+225854300[254892710]+967947000[1222839710]+6452980000[7675819710]+161324500000[16<span style=\"color: #FF0000; text-decoration: line-through;\">8</span>000319710]=16<span style=\"color: #FF0000; text-decoration: line-through;\">8</span>000319710               </pre></div>"
            ]
          },
          "metadata": {}
        },
        {
          "output_type": "stream",
          "name": "stdout",
          "text": [
            "Incorrect: 767876*736632=4419792[4419792]+51564240[55984032]+589305600[645289632]+5156424000[5801713632]+44197920000[49999633632]+515642400000[565642033632]=565642033632\n"
          ]
        },
        {
          "output_type": "display_data",
          "data": {
            "text/plain": [
              "<IPython.core.display.HTML object>"
            ],
            "text/html": [
              "<div style=\"margin-left: 20px;\"><pre>Target: 767876*736632=4419792[4419792]+51564240[55984032]+589305600[645289632]+5156424000[5801713632]+44197920000[49999633632]+515642400000[565642033632]=565642033632</pre></div>"
            ]
          },
          "metadata": {}
        },
        {
          "output_type": "display_data",
          "data": {
            "text/plain": [
              "<IPython.core.display.HTML object>"
            ],
            "text/html": [
              "<div style=\"margin-left: 20px;\"><pre>Output: 767876*736632=4419792[4419792]+51564240[55984032]+589305600[645289632]+5156424000[5801713632]+44197920000[<span style=\"color: #FF0000; text-decoration: line-through;\">5</span><span style=\"color: #FF0000; text-decoration: line-through;\">0</span><span style=\"color: #FF0000; text-decoration: line-through;\">0</span>99633632]+515642400000[565<span style=\"color: #FF0000; text-decoration: line-through;\">7</span>42033632]=565<span style=\"color: #FF0000; text-decoration: line-through;\">7</span>42033632</pre></div>"
            ]
          },
          "metadata": {}
        },
        {
          "output_type": "stream",
          "name": "stdout",
          "text": [
            "Incorrect: 408331*873548=873548[873548]+26206440[27079988]+262064400[289144388]+6988384000[7277528388]+0[7277528388]+349419200000[356696728388]=356696728388             \n"
          ]
        },
        {
          "output_type": "display_data",
          "data": {
            "text/plain": [
              "<IPython.core.display.HTML object>"
            ],
            "text/html": [
              "<div style=\"margin-left: 20px;\"><pre>Target: 408331*873548=873548[873548]+26206440[27079988]+262064400[289144388]+6988384000[7277528388]+0[7277528388]+349419200000[356696728388]=356696728388             </pre></div>"
            ]
          },
          "metadata": {}
        },
        {
          "output_type": "display_data",
          "data": {
            "text/plain": [
              "<IPython.core.display.HTML object>"
            ],
            "text/html": [
              "<div style=\"margin-left: 20px;\"><pre>Output: 408331*873548=873548[873548]+26206440[270<span style=\"color: #FF0000; text-decoration: line-through;\">8</span>9988]+262064400[2891<span style=\"color: #FF0000; text-decoration: line-through;\">5</span>4388]+6988384000[72775<span style=\"color: #FF0000; text-decoration: line-through;\">3</span>8388]+0[72775<span style=\"color: #FF0000; text-decoration: line-through;\">3</span>8388]+349419200000[3566967<span style=\"color: #FF0000; text-decoration: line-through;\">3</span>8388]=3566967<span style=\"color: #FF0000; text-decoration: line-through;\">3</span>8388             </pre></div>"
            ]
          },
          "metadata": {}
        },
        {
          "output_type": "stream",
          "name": "stdout",
          "text": [
            "Incorrect:  60953*680190=2040570[2040570]+34009500[36050070]+612171000[648221070]+0[648221070]+40811400000[41459621070]=41459621070                                      \n"
          ]
        },
        {
          "output_type": "display_data",
          "data": {
            "text/plain": [
              "<IPython.core.display.HTML object>"
            ],
            "text/html": [
              "<div style=\"margin-left: 20px;\"><pre>Target:  60953*680190=2040570[2040570]+34009500[36050070]+612171000[648221070]+0[648221070]+40811400000[41459621070]=41459621070                                      </pre></div>"
            ]
          },
          "metadata": {}
        },
        {
          "output_type": "display_data",
          "data": {
            "text/plain": [
              "<IPython.core.display.HTML object>"
            ],
            "text/html": [
              "<div style=\"margin-left: 20px;\"><pre>Output:  60953*680190=2040570[2040570]+34009500[360<span style=\"color: #FF0000; text-decoration: line-through;\">4</span>0070]+612171000[6482<span style=\"color: #FF0000; text-decoration: line-through;\">1</span>1070]+0[6482<span style=\"color: #FF0000; text-decoration: line-through;\">1</span>1070]+40811400000[414596<span style=\"color: #FF0000; text-decoration: line-through;\">1</span>1070]=414596<span style=\"color: #FF0000; text-decoration: line-through;\">1</span>1070                                      </pre></div>"
            ]
          },
          "metadata": {}
        },
        {
          "output_type": "stream",
          "name": "stdout",
          "text": [
            "Incorrect:    996125*500=2500[2500]+10000[12500]+50000[62500]+3000000[3062500]+45000000[48062500]+450000000[498062500]=498062500                                         \n"
          ]
        },
        {
          "output_type": "display_data",
          "data": {
            "text/plain": [
              "<IPython.core.display.HTML object>"
            ],
            "text/html": [
              "<div style=\"margin-left: 20px;\"><pre>Target:    996125*500=2500[2500]+10000[12500]+50000[62500]+3000000[3062500]+45000000[48062500]+450000000[498062500]=498062500                                         </pre></div>"
            ]
          },
          "metadata": {}
        },
        {
          "output_type": "display_data",
          "data": {
            "text/plain": [
              "<IPython.core.display.HTML object>"
            ],
            "text/html": [
              "<div style=\"margin-left: 20px;\"><pre>Output:    996125*500=2<span style=\"color: #FF0000; text-decoration: line-through;\">0</span>00[2<span style=\"color: #FF0000; text-decoration: line-through;\">0</span>00]+10000[1<span style=\"color: #FF0000; text-decoration: line-through;\">3</span><span style=\"color: #FF0000; text-decoration: line-through;\">0</span>00]+50000[6<span style=\"color: #FF0000; text-decoration: line-through;\">3</span><span style=\"color: #FF0000; text-decoration: line-through;\">0</span>00]+3000000[306<span style=\"color: #FF0000; text-decoration: line-through;\">3</span><span style=\"color: #FF0000; text-decoration: line-through;\">0</span>00]+45000000[4806<span style=\"color: #FF0000; text-decoration: line-through;\">3</span><span style=\"color: #FF0000; text-decoration: line-through;\">0</span>00]+450000000[49806<span style=\"color: #FF0000; text-decoration: line-through;\">3</span><span style=\"color: #FF0000; text-decoration: line-through;\">0</span>00]=49806<span style=\"color: #FF0000; text-decoration: line-through;\">3</span><span style=\"color: #FF0000; text-decoration: line-through;\">0</span>00                                         </pre></div>"
            ]
          },
          "metadata": {}
        },
        {
          "output_type": "stream",
          "name": "stdout",
          "text": [
            "================================================================================\n",
            "\n",
            "\n",
            "\n",
            "================================================================================\n",
            "max_digits=6, sum_cot=True, reverse_cot=True\n",
            "================================================================================\n",
            "===== Training =====\n",
            "block_size=157\n",
            "tokens per iteration will be: 20,096\n",
            "Initializing a new model from scratch\n",
            "number of parameters: 1.18M\n",
            "num decayed parameter tensors: 26, with 1,201,792 parameters\n",
            "num non-decayed parameter tensors: 13, with 1,664 parameters\n",
            "using fused AdamW: True\n",
            "step 0: train loss 2.6546, val loss 2.6600, train acc 0.2089, val acc 0.2052\n",
            "iter 0: loss 2.6524, time 339.29ms, accuracy=0.209\n",
            "iter 500: loss 1.3532, time 38.22ms, accuracy=0.513\n",
            "step 1000: train loss 0.6500, val loss 0.6447, train acc 0.7665, val acc 0.7695\n",
            "iter 1000: loss 0.6593, time 251.01ms, accuracy=0.761\n",
            "iter 1500: loss 0.0550, time 39.83ms, accuracy=0.985\n",
            "step 2000: train loss 0.1168, val loss 0.1250, train acc 0.9739, val acc 0.9726\n",
            "iter 2000: loss 0.1318, time 244.96ms, accuracy=0.972\n",
            "iter 2500: loss 0.0025, time 37.35ms, accuracy=0.999\n",
            "step 3000: train loss 0.0014, val loss 0.0017, train acc 0.9997, val acc 0.9995\n",
            "iter 3000: loss 0.0032, time 247.66ms, accuracy=0.999\n",
            "iter 3500: loss 0.0007, time 37.34ms, accuracy=1.000\n",
            "step 4000: train loss 0.0003, val loss 0.0007, train acc 0.9999, val acc 0.9998\n",
            "iter 4000: loss 0.0001, time 247.76ms, accuracy=1.000\n",
            "iter 4500: loss 0.0000, time 37.16ms, accuracy=1.000\n",
            "step 5000: train loss 0.0000, val loss 0.0001, train acc 1.0000, val acc 1.0000\n",
            "iter 5000: loss 0.0000, time 258.80ms, accuracy=1.000\n",
            "\n",
            "\n",
            "===== Evaluation =====\n",
            "Auto-regressive Generation\n",
            "Sequence-Level Accuracy: 0.9980\n",
            "Character-Level Accuracy: 0.9991\n",
            "\n",
            "Examples of correct/incorrect sequences:\n",
            "Correct:    12901*522966=669225[669225]+0[669225]+004966074[663291174]+0002395401[6634217151]+0000669225[6634876476]=6746784366                                          \n",
            "Correct:   436423*888037=1114662[1114662]+04706771[15842402]+008412553[156936573]+0002228235[1561683075]+00001114662[15617944323]+000008412553[156177955783]=387559771651\n",
            "Correct:   101586*724300=0085434[0085434]+00044975[00898226]+000051263[008934424]+000003427[0089378411]+0[0089378411]+00000003427[00893787537]=73578739800               \n",
            "Correct:   697557*730264=8481115[8481115]+00231563[84052614]+000231563[840757604]+0008481115[8405068155]+00006732756[84056324217]+000004851834[840567004905]=509400765048\n",
            "Correct:     5571*384492=294483[294483]+04441962[23989272]+000642291[239445912]+0000642291[2394002412]=2142004932                                                        \n",
            "Incorrect:    996125*500=0052[0052]+00001[00521]+00005[00526]+0000003[0052603]+00000054[00526084]+000000054[005260894]=498062500                                         \n"
          ]
        },
        {
          "output_type": "display_data",
          "data": {
            "text/plain": [
              "<IPython.core.display.HTML object>"
            ],
            "text/html": [
              "<div style=\"margin-left: 20px;\"><pre>Target:    996125*500=0052[0052]+00001[00521]+00005[00526]+0000003[0052603]+00000054[00526084]+000000054[005260894]=498062500                                         </pre></div>"
            ]
          },
          "metadata": {}
        },
        {
          "output_type": "display_data",
          "data": {
            "text/plain": [
              "<IPython.core.display.HTML object>"
            ],
            "text/html": [
              "<div style=\"margin-left: 20px;\"><pre>Output:    996125*500=0052[0052]+00001[00521]+00005[00526]+00000<span style=\"color: #FF0000; text-decoration: line-through;\">5</span><span style=\"color: #FF0000; text-decoration: line-through;\">[</span><span style=\"color: #FF0000; text-decoration: line-through;\">0</span>0<span style=\"color: #FF0000; text-decoration: line-through;\">5</span><span style=\"color: #FF0000; text-decoration: line-through;\">2</span><span style=\"color: #FF0000; text-decoration: line-through;\">6</span><span style=\"color: #FF0000; text-decoration: line-through;\">5</span><span style=\"color: #FF0000; text-decoration: line-through;\">]</span><span style=\"color: #FF0000; text-decoration: line-through;\">+</span><span style=\"color: #FF0000; text-decoration: line-through;\">0</span><span style=\"color: #FF0000; text-decoration: line-through;\">0</span>0000<span style=\"color: #FF0000; text-decoration: line-through;\">5</span><span style=\"color: #FF0000; text-decoration: line-through;\">2</span><span style=\"color: #FF0000; text-decoration: line-through;\">[</span><span style=\"color: #FF0000; text-decoration: line-through;\">0</span><span style=\"color: #FF0000; text-decoration: line-through;\">0</span><span style=\"color: #FF0000; text-decoration: line-through;\">5</span><span style=\"color: #FF0000; text-decoration: line-through;\">2</span><span style=\"color: #FF0000; text-decoration: line-through;\">6</span><span style=\"color: #FF0000; text-decoration: line-through;\">5</span><span style=\"color: #FF0000; text-decoration: line-through;\">5</span><span style=\"color: #FF0000; text-decoration: line-through;\">2</span><span style=\"color: #FF0000; text-decoration: line-through;\">]</span><span style=\"color: #FF0000; text-decoration: line-through;\">+</span><span style=\"color: #FF0000; text-decoration: line-through;\">0</span><span style=\"color: #FF0000; text-decoration: line-through;\">0</span>00000<span style=\"color: #FF0000; text-decoration: line-through;\">5</span><span style=\"color: #FF0000; text-decoration: line-through;\">2</span><span style=\"color: #FF0000; text-decoration: line-through;\">[</span><span style=\"color: #FF0000; text-decoration: line-through;\">0</span><span style=\"color: #FF0000; text-decoration: line-through;\">0</span><span style=\"color: #FF0000; text-decoration: line-through;\">5</span><span style=\"color: #FF0000; text-decoration: line-through;\">2</span><span style=\"color: #FF0000; text-decoration: line-through;\">6</span><span style=\"color: #FF0000; text-decoration: line-through;\">5</span><span style=\"color: #FF0000; text-decoration: line-through;\">5</span><span style=\"color: #FF0000; text-decoration: line-through;\">7</span><span style=\"color: #FF0000; text-decoration: line-through;\">2</span><span style=\"color: #FF0000; text-decoration: line-through;\">]</span><span style=\"color: #FF0000; text-decoration: line-through;\">=</span><span style=\"color: #FF0000; text-decoration: line-through;\">2</span><span style=\"color: #FF0000; text-decoration: line-through;\">7</span><span style=\"color: #FF0000; text-decoration: line-through;\">5</span><span style=\"color: #FF0000; text-decoration: line-through;\">5</span><span style=\"color: #FF0000; text-decoration: line-through;\">6</span><span style=\"color: #FF0000; text-decoration: line-through;\">2</span><span style=\"color: #FF0000; text-decoration: line-through;\">5</span><span style=\"color: #FF0000; text-decoration: line-through;\">0</span><span style=\"color: #FF0000; text-decoration: line-through;\">0</span><span style=\"color: #FF0000; text-decoration: line-through;\"> </span><span style=\"color: #FF0000; text-decoration: line-through;\"> </span>                                         </pre></div>"
            ]
          },
          "metadata": {}
        },
        {
          "output_type": "stream",
          "name": "stdout",
          "text": [
            "Incorrect:     651016*15=09[09]+051[042]+0[042]+00051[04251]+000057[042567]+0000009[0425679]=9765240                                                                     \n"
          ]
        },
        {
          "output_type": "display_data",
          "data": {
            "text/plain": [
              "<IPython.core.display.HTML object>"
            ],
            "text/html": [
              "<div style=\"margin-left: 20px;\"><pre>Target:     651016*15=09[09]+051[042]+0[042]+00051[04251]+000057[042567]+0000009[0425679]=9765240                                                                     </pre></div>"
            ]
          },
          "metadata": {}
        },
        {
          "output_type": "display_data",
          "data": {
            "text/plain": [
              "<IPython.core.display.HTML object>"
            ],
            "text/html": [
              "<div style=\"margin-left: 20px;\"><pre>Output:     651016*15=09<span style=\"color: #FF0000; text-decoration: line-through;\">0</span><span style=\"color: #FF0000; text-decoration: line-through;\">[</span><span style=\"color: #FF0000; text-decoration: line-through;\">0</span><span style=\"color: #FF0000; text-decoration: line-through;\">9</span><span style=\"color: #FF0000; text-decoration: line-through;\">0</span><span style=\"color: #FF0000; text-decoration: line-through;\">]</span><span style=\"color: #FF0000; text-decoration: line-through;\">+</span><span style=\"color: #FF0000; text-decoration: line-through;\">0</span><span style=\"color: #FF0000; text-decoration: line-through;\">0</span><span style=\"color: #FF0000; text-decoration: line-through;\">[</span><span style=\"color: #FF0000; text-decoration: line-through;\">0</span><span style=\"color: #FF0000; text-decoration: line-through;\">9</span><span style=\"color: #FF0000; text-decoration: line-through;\">0</span><span style=\"color: #FF0000; text-decoration: line-through;\">]</span><span style=\"color: #FF0000; text-decoration: line-through;\">+</span><span style=\"color: #FF0000; text-decoration: line-through;\">0</span>0<span style=\"color: #FF0000; text-decoration: line-through;\">0</span><span style=\"color: #FF0000; text-decoration: line-through;\">1</span><span style=\"color: #FF0000; text-decoration: line-through;\">[</span><span style=\"color: #FF0000; text-decoration: line-through;\">0</span><span style=\"color: #FF0000; text-decoration: line-through;\">9</span>0<span style=\"color: #FF0000; text-decoration: line-through;\">1</span><span style=\"color: #FF0000; text-decoration: line-through;\">]</span><span style=\"color: #FF0000; text-decoration: line-through;\">+</span><span style=\"color: #FF0000; text-decoration: line-through;\">0</span>0<span style=\"color: #FF0000; text-decoration: line-through;\">0</span><span style=\"color: #FF0000; text-decoration: line-through;\">5</span><span style=\"color: #FF0000; text-decoration: line-through;\">0</span><span style=\"color: #FF0000; text-decoration: line-through;\">[</span><span style=\"color: #FF0000; text-decoration: line-through;\">0</span><span style=\"color: #FF0000; text-decoration: line-through;\">9</span>0<span style=\"color: #FF0000; text-decoration: line-through;\">6</span>0<span style=\"color: #FF0000; text-decoration: line-through;\">]</span><span style=\"color: #FF0000; text-decoration: line-through;\">+</span><span style=\"color: #FF0000; text-decoration: line-through;\">0</span><span style=\"color: #FF0000; text-decoration: line-through;\">0</span>0<span style=\"color: #FF0000; text-decoration: line-through;\">0</span><span style=\"color: #FF0000; text-decoration: line-through;\">0</span><span style=\"color: #FF0000; text-decoration: line-through;\">1</span><span style=\"color: #FF0000; text-decoration: line-through;\">[</span><span style=\"color: #FF0000; text-decoration: line-through;\">0</span><span style=\"color: #FF0000; text-decoration: line-through;\">9</span><span style=\"color: #FF0000; text-decoration: line-through;\">0</span><span style=\"color: #FF0000; text-decoration: line-through;\">6</span>0<span style=\"color: #FF0000; text-decoration: line-through;\">1</span><span style=\"color: #FF0000; text-decoration: line-through;\">]</span><span style=\"color: #FF0000; text-decoration: line-through;\">+</span>0<span style=\"color: #FF0000; text-decoration: line-through;\">0</span><span style=\"color: #FF0000; text-decoration: line-through;\">0</span>0<span style=\"color: #FF0000; text-decoration: line-through;\">0</span><span style=\"color: #FF0000; text-decoration: line-through;\">0</span><span style=\"color: #FF0000; text-decoration: line-through;\">1</span><span style=\"color: #FF0000; text-decoration: line-through;\">[</span><span style=\"color: #FF0000; text-decoration: line-through;\">0</span>9<span style=\"color: #FF0000; text-decoration: line-through;\">0</span><span style=\"color: #FF0000; text-decoration: line-through;\">6</span><span style=\"color: #FF0000; text-decoration: line-through;\">0</span><span style=\"color: #FF0000; text-decoration: line-through;\">1</span><span style=\"color: #FF0000; text-decoration: line-through;\">]</span><span style=\"color: #FF0000; text-decoration: line-through;\">=</span><span style=\"color: #FF0000; text-decoration: line-through;\">1</span><span style=\"color: #FF0000; text-decoration: line-through;\">]</span><span style=\"color: #FF0000; text-decoration: line-through;\">1</span><span style=\"color: #FF0000; text-decoration: line-through;\">0</span><span style=\"color: #FF0000; text-decoration: line-through;\">1</span><span style=\"color: #FF0000; text-decoration: line-through;\">0</span><span style=\"color: #FF0000; text-decoration: line-through;\">6</span><span style=\"color: #FF0000; text-decoration: line-through;\">0</span><span style=\"color: #FF0000; text-decoration: line-through;\">9</span>                                                               </pre></div>"
            ]
          },
          "metadata": {}
        },
        {
          "output_type": "stream",
          "name": "stdout",
          "text": [
            "================================================================================\n",
            "\n",
            "\n",
            "\n"
          ]
        }
      ]
    },
    {
      "cell_type": "markdown",
      "source": [],
      "metadata": {
        "id": "4aWdsrIpHl-W"
      }
    }
  ]
}